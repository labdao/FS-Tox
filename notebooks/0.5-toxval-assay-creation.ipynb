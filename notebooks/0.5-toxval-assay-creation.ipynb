{
 "cells": [
  {
   "cell_type": "code",
   "execution_count": 9,
   "id": "91b5a735",
   "metadata": {},
   "outputs": [],
   "source": [
    "import pandas as pd\n",
    "import duckdb\n",
    "import glob\n",
    "\n",
    "import matplotlib.pyplot as plt\n",
    "import seaborn as sns"
   ]
  },
  {
   "cell_type": "markdown",
   "id": "9fe4f8d5",
   "metadata": {},
   "source": [
    "# Assay sizes"
   ]
  },
  {
   "cell_type": "code",
   "execution_count": 2,
   "id": "3a37dd32",
   "metadata": {},
   "outputs": [],
   "source": [
    "# List of all excel files in the directory\n",
    "all_files = glob.glob(\"/Users/sethhowes/Desktop/FS-Tox/data/raw/toxvaldb/*.xlsx\")\n",
    "\n",
    "# Empty list to hold dataframes\n",
    "df_list = []\n",
    "\n",
    "# Loop through all files\n",
    "for file in all_files:\n",
    "    # Read each excel file as a pandas dataframe\n",
    "    df = pd.read_excel(file)\n",
    "    # Append the dataframe to the list\n",
    "    df_list.append(df)\n",
    "\n",
    "# Concatenate all dataframes in the list\n",
    "final_df = pd.concat(df_list, ignore_index=True)"
   ]
  },
  {
   "cell_type": "code",
   "execution_count": 5,
   "id": "5a34ccf8",
   "metadata": {},
   "outputs": [
    {
     "data": {
      "text/plain": [
       "(905858, 68)"
      ]
     },
     "execution_count": 5,
     "metadata": {},
     "output_type": "execute_result"
    }
   ],
   "source": [
    "final_df.shape"
   ]
  },
  {
   "cell_type": "code",
   "execution_count": 4,
   "id": "4a24cab8",
   "metadata": {},
   "outputs": [
    {
     "data": {
      "text/plain": [
       "Index(['dtxsid', 'casrn', 'name', 'source', 'subsource', 'qc_status',\n",
       "       'risk_assessment_class', 'human_eco', 'toxval_type',\n",
       "       'toxval_type_original', 'toxval_subtype', 'toxval_type_supercategory',\n",
       "       'toxval_numeric_qualifier', 'toxval_numeric', 'toxval_units',\n",
       "       'toxval_numeric_original', 'toxval_units_original', 'study_type',\n",
       "       'study_type_original', 'study_duration_class',\n",
       "       'study_duration_class_original', 'study_duration_value',\n",
       "       'study_duration_value_original', 'study_duration_units',\n",
       "       'study_duration_units_original', 'species_id', 'species_original',\n",
       "       'common_name', 'latin_name', 'ecotox_group', 'habitat', 'strain',\n",
       "       'strain_group', 'strain_original', 'sex', 'sex_original', 'generation',\n",
       "       'lifestage', 'exposure_route', 'exposure_route_original',\n",
       "       'exposure_method', 'exposure_method_original', 'exposure_form',\n",
       "       'exposure_form_original', 'media', 'media_original', 'critical_effect',\n",
       "       'critical_effect_original', 'year', 'datestamp', 'long_ref', 'title',\n",
       "       'author', 'journal', 'volume', 'year.1', 'issue', 'url',\n",
       "       'document_name', 'toxval_type_category', 'source_url', 'subsource_url',\n",
       "       'toxval_id', 'source_hash', 'source_table', 'details_text',\n",
       "       'chemical_id', 'priority_id'],\n",
       "      dtype='object')"
      ]
     },
     "execution_count": 4,
     "metadata": {},
     "output_type": "execute_result"
    }
   ],
   "source": [
    "final_df.columns"
   ]
  },
  {
   "cell_type": "markdown",
   "id": "598779b4",
   "metadata": {},
   "source": [
    "The relevant features that I want to group by are:\n",
    "- `common_name` - species\n",
    "- `source` - dataset the record originated from\n",
    "- `toxval_type` - outcome score type\n",
    "- `toxval_units` - units for measuring exposure\n",
    "- `study_type` - basic description of assay\n",
    "- `exposure_route` - route of administration\n",
    "\n",
    "All of these columns should be in a decent state apart from `toxval_type`. The different values in this column should be combined if similar (e.g. LD and LC)"
   ]
  },
  {
   "cell_type": "code",
   "execution_count": 6,
   "id": "656a978e",
   "metadata": {},
   "outputs": [
    {
     "data": {
      "text/plain": [
       "toxval_type\n",
       "LC50                  177813\n",
       "LD50                  132442\n",
       "NOEC                  109518\n",
       "LOEC                   75529\n",
       "NOAEL                  73615\n",
       "                       ...  \n",
       "LT50@ 26.62 AI mgL         1\n",
       "LT50@ 29.12 AI mgL         1\n",
       "LT50@ 0.688 AI mgL         1\n",
       "LT50@ 97.84 AI mgL         1\n",
       "STI                        1\n",
       "Name: count, Length: 1974, dtype: int64"
      ]
     },
     "execution_count": 6,
     "metadata": {},
     "output_type": "execute_result"
    }
   ],
   "source": [
    "final_df[\"toxval_type\"].value_counts()"
   ]
  },
  {
   "cell_type": "code",
   "execution_count": 32,
   "id": "410d4ed4",
   "metadata": {},
   "outputs": [],
   "source": [
    "grouped = final_df.groupby(['common_name', 'source', 'toxval_type', 'toxval_units', 'study_type', 'exposure_route']).size().reset_index(name='counts')"
   ]
  },
  {
   "cell_type": "code",
   "execution_count": 33,
   "id": "ac5e7922",
   "metadata": {},
   "outputs": [
    {
     "data": {
      "text/html": [
       "<div>\n",
       "<style scoped>\n",
       "    .dataframe tbody tr th:only-of-type {\n",
       "        vertical-align: middle;\n",
       "    }\n",
       "\n",
       "    .dataframe tbody tr th {\n",
       "        vertical-align: top;\n",
       "    }\n",
       "\n",
       "    .dataframe thead th {\n",
       "        text-align: right;\n",
       "    }\n",
       "</style>\n",
       "<table border=\"1\" class=\"dataframe\">\n",
       "  <thead>\n",
       "    <tr style=\"text-align: right;\">\n",
       "      <th></th>\n",
       "      <th>common_name</th>\n",
       "      <th>source</th>\n",
       "      <th>toxval_type</th>\n",
       "      <th>toxval_units</th>\n",
       "      <th>study_type</th>\n",
       "      <th>exposure_route</th>\n",
       "      <th>counts</th>\n",
       "    </tr>\n",
       "  </thead>\n",
       "  <tbody>\n",
       "    <tr>\n",
       "      <th>0</th>\n",
       "      <td>Great Fruit-eating Bat</td>\n",
       "      <td>HPVIS</td>\n",
       "      <td>EC50</td>\n",
       "      <td>mg/L</td>\n",
       "      <td>acute</td>\n",
       "      <td>-</td>\n",
       "      <td>4</td>\n",
       "    </tr>\n",
       "    <tr>\n",
       "      <th>1</th>\n",
       "      <td>Great Fruit-eating Bat</td>\n",
       "      <td>HPVIS</td>\n",
       "      <td>EC50</td>\n",
       "      <td>mg/L</td>\n",
       "      <td>chronic</td>\n",
       "      <td>-</td>\n",
       "      <td>1</td>\n",
       "    </tr>\n",
       "    <tr>\n",
       "      <th>2</th>\n",
       "      <td>Great Fruit-eating Bat</td>\n",
       "      <td>HPVIS</td>\n",
       "      <td>EC50</td>\n",
       "      <td>ug/L</td>\n",
       "      <td>acute</td>\n",
       "      <td>-</td>\n",
       "      <td>1</td>\n",
       "    </tr>\n",
       "    <tr>\n",
       "      <th>3</th>\n",
       "      <td>Great Fruit-eating Bat</td>\n",
       "      <td>HPVIS</td>\n",
       "      <td>LC0</td>\n",
       "      <td>mg/L</td>\n",
       "      <td>acute</td>\n",
       "      <td>-</td>\n",
       "      <td>16</td>\n",
       "    </tr>\n",
       "    <tr>\n",
       "      <th>4</th>\n",
       "      <td>Great Fruit-eating Bat</td>\n",
       "      <td>HPVIS</td>\n",
       "      <td>LC100</td>\n",
       "      <td>mg/L</td>\n",
       "      <td>acute</td>\n",
       "      <td>-</td>\n",
       "      <td>15</td>\n",
       "    </tr>\n",
       "    <tr>\n",
       "      <th>...</th>\n",
       "      <td>...</td>\n",
       "      <td>...</td>\n",
       "      <td>...</td>\n",
       "      <td>...</td>\n",
       "      <td>...</td>\n",
       "      <td>...</td>\n",
       "      <td>...</td>\n",
       "    </tr>\n",
       "    <tr>\n",
       "      <th>36722</th>\n",
       "      <td>whitewater crowfoot</td>\n",
       "      <td>ECOTOX</td>\n",
       "      <td>EC50</td>\n",
       "      <td>mg/m3</td>\n",
       "      <td>physiology</td>\n",
       "      <td>aqueous</td>\n",
       "      <td>1</td>\n",
       "    </tr>\n",
       "    <tr>\n",
       "      <th>36723</th>\n",
       "      <td>whitewater crowfoot</td>\n",
       "      <td>ECOTOX</td>\n",
       "      <td>EC50</td>\n",
       "      <td>mg/m3</td>\n",
       "      <td>population</td>\n",
       "      <td>aqueous</td>\n",
       "      <td>2</td>\n",
       "    </tr>\n",
       "    <tr>\n",
       "      <th>36724</th>\n",
       "      <td>whitewater crowfoot</td>\n",
       "      <td>ECOTOX</td>\n",
       "      <td>EC90</td>\n",
       "      <td>mg/m3</td>\n",
       "      <td>physiology</td>\n",
       "      <td>aqueous</td>\n",
       "      <td>1</td>\n",
       "    </tr>\n",
       "    <tr>\n",
       "      <th>36725</th>\n",
       "      <td>whitewater crowfoot</td>\n",
       "      <td>ECOTOX</td>\n",
       "      <td>LOEL</td>\n",
       "      <td>mg/m3</td>\n",
       "      <td>growth</td>\n",
       "      <td>aqueous</td>\n",
       "      <td>1</td>\n",
       "    </tr>\n",
       "    <tr>\n",
       "      <th>36726</th>\n",
       "      <td>whitewater crowfoot</td>\n",
       "      <td>ECOTOX</td>\n",
       "      <td>LOEL</td>\n",
       "      <td>mg/m3</td>\n",
       "      <td>reproduction</td>\n",
       "      <td>aqueous</td>\n",
       "      <td>1</td>\n",
       "    </tr>\n",
       "  </tbody>\n",
       "</table>\n",
       "<p>36727 rows × 7 columns</p>\n",
       "</div>"
      ],
      "text/plain": [
       "                     common_name  source toxval_type toxval_units   \n",
       "0       Great Fruit-eating Bat     HPVIS        EC50         mg/L  \\\n",
       "1       Great Fruit-eating Bat     HPVIS        EC50         mg/L   \n",
       "2       Great Fruit-eating Bat     HPVIS        EC50         ug/L   \n",
       "3       Great Fruit-eating Bat     HPVIS         LC0         mg/L   \n",
       "4       Great Fruit-eating Bat     HPVIS       LC100         mg/L   \n",
       "...                          ...     ...         ...          ...   \n",
       "36722        whitewater crowfoot  ECOTOX        EC50        mg/m3   \n",
       "36723        whitewater crowfoot  ECOTOX        EC50        mg/m3   \n",
       "36724        whitewater crowfoot  ECOTOX        EC90        mg/m3   \n",
       "36725        whitewater crowfoot  ECOTOX        LOEL        mg/m3   \n",
       "36726        whitewater crowfoot  ECOTOX        LOEL        mg/m3   \n",
       "\n",
       "         study_type exposure_route  counts  \n",
       "0             acute              -       4  \n",
       "1           chronic              -       1  \n",
       "2             acute              -       1  \n",
       "3             acute              -      16  \n",
       "4             acute              -      15  \n",
       "...             ...            ...     ...  \n",
       "36722    physiology        aqueous       1  \n",
       "36723    population        aqueous       2  \n",
       "36724    physiology        aqueous       1  \n",
       "36725        growth        aqueous       1  \n",
       "36726  reproduction        aqueous       1  \n",
       "\n",
       "[36727 rows x 7 columns]"
      ]
     },
     "execution_count": 33,
     "metadata": {},
     "output_type": "execute_result"
    }
   ],
   "source": [
    "grouped"
   ]
  },
  {
   "cell_type": "code",
   "execution_count": 34,
   "id": "2b3520e2",
   "metadata": {},
   "outputs": [
    {
     "data": {
      "image/png": "[encoded data removed]",
      "text/plain": [
       "<Figure size 640x480 with 1 Axes>"
      ]
     },
     "metadata": {},
     "output_type": "display_data"
    }
   ],
   "source": [
    "# Create a histogram/density plot\n",
    "sns.histplot(grouped['counts'], bins=100, kde=True)\n",
    "\n",
    "plt.title('Distribution of Group Sizes')\n",
    "plt.xlabel('Group Size')\n",
    "plt.ylabel('Density')\n",
    "plt.show()"
   ]
  },
  {
   "cell_type": "code",
   "execution_count": 35,
   "id": "a26600d6",
   "metadata": {},
   "outputs": [
    {
     "data": {
      "text/plain": [
       "2.0"
      ]
     },
     "execution_count": 35,
     "metadata": {},
     "output_type": "execute_result"
    }
   ],
   "source": [
    "grouped[\"counts\"].median()"
   ]
  },
  {
   "cell_type": "code",
   "execution_count": 37,
   "id": "945a7ef4",
   "metadata": {},
   "outputs": [],
   "source": [
    "grouped_selection = grouped[grouped[\"counts\"] < 100]"
   ]
  },
  {
   "cell_type": "code",
   "execution_count": 38,
   "id": "6deae719",
   "metadata": {},
   "outputs": [
    {
     "data": {
      "image/png": "[encoded data removed]",
      "text/plain": [
       "<Figure size 640x480 with 1 Axes>"
      ]
     },
     "metadata": {},
     "output_type": "display_data"
    }
   ],
   "source": [
    "# Create a histogram/density plot\n",
    "sns.histplot(grouped_selection['counts'], kde=True)\n",
    "\n",
    "plt.title('Distribution of Group Sizes')\n",
    "plt.xlabel('Group Size')\n",
    "plt.ylabel('Density')\n",
    "\n",
    "# Log scale the y-axis\n",
    "plt.yscale('log')\n",
    "\n",
    "plt.show()"
   ]
  },
  {
   "cell_type": "markdown",
   "id": "4b6c0930",
   "metadata": {},
   "source": [
    "I want to explore why there is such a long right tail of the distribution."
   ]
  },
  {
   "cell_type": "code",
   "execution_count": 66,
   "id": "0c47171f",
   "metadata": {},
   "outputs": [
    {
     "data": {
      "text/html": [
       "<div>\n",
       "<style scoped>\n",
       "    .dataframe tbody tr th:only-of-type {\n",
       "        vertical-align: middle;\n",
       "    }\n",
       "\n",
       "    .dataframe tbody tr th {\n",
       "        vertical-align: top;\n",
       "    }\n",
       "\n",
       "    .dataframe thead th {\n",
       "        text-align: right;\n",
       "    }\n",
       "</style>\n",
       "<table border=\"1\" class=\"dataframe\">\n",
       "  <thead>\n",
       "    <tr style=\"text-align: right;\">\n",
       "      <th></th>\n",
       "      <th>common_name</th>\n",
       "      <th>source</th>\n",
       "      <th>toxval_type</th>\n",
       "      <th>toxval_units</th>\n",
       "      <th>study_type</th>\n",
       "      <th>exposure_route</th>\n",
       "      <th>counts</th>\n",
       "    </tr>\n",
       "  </thead>\n",
       "  <tbody>\n",
       "    <tr>\n",
       "      <th>26216</th>\n",
       "      <td>Rat</td>\n",
       "      <td>ECHA IUCLID</td>\n",
       "      <td>LD50</td>\n",
       "      <td>mg/kg</td>\n",
       "      <td>acute</td>\n",
       "      <td>oral</td>\n",
       "      <td>34685</td>\n",
       "    </tr>\n",
       "    <tr>\n",
       "      <th>18882</th>\n",
       "      <td>Mouse</td>\n",
       "      <td>ChemIDplus</td>\n",
       "      <td>LD50</td>\n",
       "      <td>mg/kg</td>\n",
       "      <td>acute</td>\n",
       "      <td>oral</td>\n",
       "      <td>27621</td>\n",
       "    </tr>\n",
       "    <tr>\n",
       "      <th>27859</th>\n",
       "      <td>Rat</td>\n",
       "      <td>TEST</td>\n",
       "      <td>LD50</td>\n",
       "      <td>mg/kg</td>\n",
       "      <td>acute</td>\n",
       "      <td>oral</td>\n",
       "      <td>13060</td>\n",
       "    </tr>\n",
       "    <tr>\n",
       "      <th>25927</th>\n",
       "      <td>Rat</td>\n",
       "      <td>ChemIDplus</td>\n",
       "      <td>LD50</td>\n",
       "      <td>mg/kg</td>\n",
       "      <td>acute</td>\n",
       "      <td>oral</td>\n",
       "      <td>12920</td>\n",
       "    </tr>\n",
       "    <tr>\n",
       "      <th>14857</th>\n",
       "      <td>Human (RA)</td>\n",
       "      <td>DOD</td>\n",
       "      <td>MEG</td>\n",
       "      <td>mg/m3</td>\n",
       "      <td>acute</td>\n",
       "      <td>inhalation</td>\n",
       "      <td>10312</td>\n",
       "    </tr>\n",
       "    <tr>\n",
       "      <th>...</th>\n",
       "      <td>...</td>\n",
       "      <td>...</td>\n",
       "      <td>...</td>\n",
       "      <td>...</td>\n",
       "      <td>...</td>\n",
       "      <td>...</td>\n",
       "      <td>...</td>\n",
       "    </tr>\n",
       "    <tr>\n",
       "      <th>24514</th>\n",
       "      <td>Rabbit</td>\n",
       "      <td>HPVIS</td>\n",
       "      <td>LD50</td>\n",
       "      <td>mg/kg</td>\n",
       "      <td>acute</td>\n",
       "      <td>dermal</td>\n",
       "      <td>504</td>\n",
       "    </tr>\n",
       "    <tr>\n",
       "      <th>13005</th>\n",
       "      <td>Green Algae</td>\n",
       "      <td>ECOTOX</td>\n",
       "      <td>NOEL</td>\n",
       "      <td>mg/m3</td>\n",
       "      <td>population</td>\n",
       "      <td>aqueous</td>\n",
       "      <td>504</td>\n",
       "    </tr>\n",
       "    <tr>\n",
       "      <th>6950</th>\n",
       "      <td>Common Carp</td>\n",
       "      <td>ECOTOX</td>\n",
       "      <td>NOEC</td>\n",
       "      <td>mg/m3</td>\n",
       "      <td>biochemistry</td>\n",
       "      <td>aqueous</td>\n",
       "      <td>502</td>\n",
       "    </tr>\n",
       "    <tr>\n",
       "      <th>14242</th>\n",
       "      <td>Harlequinfish, Red Rasbora</td>\n",
       "      <td>ECOTOX</td>\n",
       "      <td>LC50</td>\n",
       "      <td>mg/m3</td>\n",
       "      <td>mortality</td>\n",
       "      <td>aqueous</td>\n",
       "      <td>502</td>\n",
       "    </tr>\n",
       "    <tr>\n",
       "      <th>29008</th>\n",
       "      <td>Rotifer</td>\n",
       "      <td>ECOTOX</td>\n",
       "      <td>NOEC</td>\n",
       "      <td>mg/m3</td>\n",
       "      <td>population</td>\n",
       "      <td>aqueous</td>\n",
       "      <td>501</td>\n",
       "    </tr>\n",
       "  </tbody>\n",
       "</table>\n",
       "<p>253 rows × 7 columns</p>\n",
       "</div>"
      ],
      "text/plain": [
       "                      common_name       source toxval_type toxval_units   \n",
       "26216                         Rat  ECHA IUCLID        LD50        mg/kg  \\\n",
       "18882                       Mouse   ChemIDplus        LD50        mg/kg   \n",
       "27859                         Rat         TEST        LD50        mg/kg   \n",
       "25927                         Rat   ChemIDplus        LD50        mg/kg   \n",
       "14857                  Human (RA)          DOD         MEG        mg/m3   \n",
       "...                           ...          ...         ...          ...   \n",
       "24514                      Rabbit        HPVIS        LD50        mg/kg   \n",
       "13005                 Green Algae       ECOTOX        NOEL        mg/m3   \n",
       "6950                  Common Carp       ECOTOX        NOEC        mg/m3   \n",
       "14242  Harlequinfish, Red Rasbora       ECOTOX        LC50        mg/m3   \n",
       "29008                     Rotifer       ECOTOX        NOEC        mg/m3   \n",
       "\n",
       "         study_type exposure_route  counts  \n",
       "26216         acute           oral   34685  \n",
       "18882         acute           oral   27621  \n",
       "27859         acute           oral   13060  \n",
       "25927         acute           oral   12920  \n",
       "14857         acute     inhalation   10312  \n",
       "...             ...            ...     ...  \n",
       "24514         acute         dermal     504  \n",
       "13005    population        aqueous     504  \n",
       "6950   biochemistry        aqueous     502  \n",
       "14242     mortality        aqueous     502  \n",
       "29008    population        aqueous     501  \n",
       "\n",
       "[253 rows x 7 columns]"
      ]
     },
     "execution_count": 66,
     "metadata": {},
     "output_type": "execute_result"
    }
   ],
   "source": [
    "grouped[grouped[\"counts\"] > 500].sort_values(by=\"counts\", ascending=False)"
   ]
  },
  {
   "cell_type": "code",
   "execution_count": 88,
   "id": "24be210b",
   "metadata": {},
   "outputs": [
    {
     "data": {
      "text/plain": [
       "3650"
      ]
     },
     "execution_count": 88,
     "metadata": {},
     "output_type": "execute_result"
    }
   ],
   "source": [
    "(grouped[\"counts\"] > 24).sum()"
   ]
  },
  {
   "cell_type": "markdown",
   "id": "c85a3551",
   "metadata": {},
   "source": [
    "# Unique molecules\n",
    "I now want to check the number of unique molecules that I have in this dataset"
   ]
  },
  {
   "cell_type": "code",
   "execution_count": 99,
   "id": "9ac2bddd",
   "metadata": {},
   "outputs": [],
   "source": [
    "# Get records that belong to a group of greater than 10 members\n",
    "bigger_groups = final_df.groupby(['common_name', 'source', 'toxval_type', 'toxval_units', 'study_type', 'exposure_route']).filter(lambda x: len(x) >= 10)"
   ]
  },
  {
   "cell_type": "code",
   "execution_count": 101,
   "id": "4c885c0a",
   "metadata": {},
   "outputs": [
    {
     "data": {
      "text/plain": [
       "47204"
      ]
     },
     "execution_count": 101,
     "metadata": {},
     "output_type": "execute_result"
    }
   ],
   "source": [
    "len(bigger_groups[\"dtxsid\"].unique())"
   ]
  }
 ],
 "metadata": {
  "kernelspec": {
   "display_name": "fs-tox",
   "language": "python",
   "name": "fs-tox"
  },
  "language_info": {
   "codemirror_mode": {
    "name": "ipython",
    "version": 3
   },
   "file_extension": ".py",
   "mimetype": "text/x-python",
   "name": "python",
   "nbconvert_exporter": "python",
   "pygments_lexer": "ipython3",
   "version": "3.11.2"
  }
 },
 "nbformat": 4,
 "nbformat_minor": 5
}
