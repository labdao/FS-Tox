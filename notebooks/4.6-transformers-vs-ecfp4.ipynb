{
 "cells": [
  {
   "cell_type": "markdown",
   "id": "afefc3a9",
   "metadata": {},
   "source": [
    "# Transformers vs. ECFP4 embeddings"
   ]
  },
  {
   "cell_type": "code",
   "execution_count": 3,
   "id": "7f82cfec",
   "metadata": {},
   "outputs": [],
   "source": [
    "import os\n",
    "\n",
    "import numpy as np\n",
    "import pandas as pd\n",
    "import duckdb\n",
    "import seaborn as sns\n",
    "import matplotlib.pyplot as plt"
   ]
  },
  {
   "cell_type": "code",
   "execution_count": 4,
   "id": "3ddd12af",
   "metadata": {},
   "outputs": [],
   "source": [
    "def get_run_info(filepath):\n",
    "\n",
    "    # Split the string at each slash to isolate each part of the path\n",
    "    parts = filepath.split(\"/\")\n",
    "\n",
    "    # The target part is the one that contains 'params.dataset' and 'params.support_set_size'\n",
    "    target = [part for part in parts if \"params.dataset\" in part and \"params.feature\" in part][0]\n",
    "\n",
    "    # Split the target part at each comma\n",
    "    params = target.split(\",\")\n",
    "\n",
    "    # Split each parameter at the equals sign and take the second part\n",
    "    dataset = params[0].split(\"=\")[1]\n",
    "    feature = params[1].split(\"=\")[1]  # convert to int for numerical operations\n",
    "\n",
    "    return {\"feature\": feature, \"dataset\": dataset}"
   ]
  },
  {
   "cell_type": "code",
   "execution_count": 6,
   "id": "9eda7456",
   "metadata": {},
   "outputs": [
    {
     "name": "stdout",
     "output_type": "stream",
     "text": [
      "No data for nci60 trained with feature\n",
      "No data for cancerrx trained with feature\n",
      "No data for cancerrx trained with feature\n",
      "No data for nci60 trained with feature\n",
      "No data for toxcast trained with feature\n",
      "No data for acute_oral_toxicity trained with feature\n",
      "No data for acute_oral_toxicity trained with feature\n",
      "No data for cancerrx trained with feature\n"
     ]
    }
   ],
   "source": [
    "INPUT_DIR = \"/Users/sethhowes/Desktop/FS-Tox/multirun/2023-08-10/14-26-24\"\n",
    "run_dirs = [os.path.join(INPUT_DIR, run_dir) for run_dir in os.listdir(INPUT_DIR) if os.path.isdir(os.path.join(INPUT_DIR, run_dir))]\n",
    "run_dirs = [f\"{run_dir}/data/processed/score/*.parquet\" for run_dir in run_dirs]\n",
    "\n",
    "datasets = [\"toxcast\", \"toxval\", \"nci60\", \"cancerrx\", \"prism\", \"acute-oral-toxicity\", \"meic\"]\n",
    "\n",
    "con = duckdb.connect()\n",
    "\n",
    "dfs = []\n",
    "\n",
    "for run_dir in run_dirs:\n",
    "    info = get_run_info(run_dir)\n",
    "    query = f\"\"\"\n",
    "    SELECT delta_auc_pr\n",
    "    FROM read_parquet('{run_dir}')\n",
    "    \"\"\"\n",
    "    try:\n",
    "        df = con.execute(query).df()\n",
    "        df[\"feature\"] = info[\"feature\"]\n",
    "        df[\"dataset\"] = info[\"dataset\"]\n",
    "        dfs.append(df)\n",
    "    except Exception as e:\n",
    "        print(f\"No data for {info['dataset']} trained with feature\")\n",
    "\n",
    "        \n",
    "# Concatenate all dataframes into one\n",
    "df_final = pd.concat(dfs, ignore_index=True)"
   ]
  },
  {
   "cell_type": "code",
   "execution_count": 4,
   "id": "38eb8ca9",
   "metadata": {},
   "outputs": [
    {
     "data": {
      "text/html": [
       "<div>\n",
       "<style scoped>\n",
       "    .dataframe tbody tr th:only-of-type {\n",
       "        vertical-align: middle;\n",
       "    }\n",
       "\n",
       "    .dataframe tbody tr th {\n",
       "        vertical-align: top;\n",
       "    }\n",
       "\n",
       "    .dataframe thead th {\n",
       "        text-align: right;\n",
       "    }\n",
       "</style>\n",
       "<table border=\"1\" class=\"dataframe\">\n",
       "  <thead>\n",
       "    <tr style=\"text-align: right;\">\n",
       "      <th></th>\n",
       "      <th>delta_auc_pr</th>\n",
       "      <th>feature</th>\n",
       "      <th>dataset</th>\n",
       "    </tr>\n",
       "  </thead>\n",
       "  <tbody>\n",
       "    <tr>\n",
       "      <th>0</th>\n",
       "      <td>0.249536</td>\n",
       "      <td>ecfp4_1024</td>\n",
       "      <td>nci60</td>\n",
       "    </tr>\n",
       "    <tr>\n",
       "      <th>1</th>\n",
       "      <td>0.037207</td>\n",
       "      <td>ecfp4_1024</td>\n",
       "      <td>nci60</td>\n",
       "    </tr>\n",
       "    <tr>\n",
       "      <th>2</th>\n",
       "      <td>0.043833</td>\n",
       "      <td>ecfp4_1024</td>\n",
       "      <td>nci60</td>\n",
       "    </tr>\n",
       "    <tr>\n",
       "      <th>3</th>\n",
       "      <td>0.002620</td>\n",
       "      <td>ecfp4_1024</td>\n",
       "      <td>nci60</td>\n",
       "    </tr>\n",
       "    <tr>\n",
       "      <th>4</th>\n",
       "      <td>0.010916</td>\n",
       "      <td>ecfp4_1024</td>\n",
       "      <td>nci60</td>\n",
       "    </tr>\n",
       "    <tr>\n",
       "      <th>...</th>\n",
       "      <td>...</td>\n",
       "      <td>...</td>\n",
       "      <td>...</td>\n",
       "    </tr>\n",
       "    <tr>\n",
       "      <th>3041</th>\n",
       "      <td>0.230764</td>\n",
       "      <td>ecfp4_1024</td>\n",
       "      <td>toxval</td>\n",
       "    </tr>\n",
       "    <tr>\n",
       "      <th>3042</th>\n",
       "      <td>0.009216</td>\n",
       "      <td>ecfp4_1024</td>\n",
       "      <td>toxval</td>\n",
       "    </tr>\n",
       "    <tr>\n",
       "      <th>3043</th>\n",
       "      <td>0.039733</td>\n",
       "      <td>ecfp4_1024</td>\n",
       "      <td>toxval</td>\n",
       "    </tr>\n",
       "    <tr>\n",
       "      <th>3044</th>\n",
       "      <td>0.207688</td>\n",
       "      <td>ecfp4_1024</td>\n",
       "      <td>toxval</td>\n",
       "    </tr>\n",
       "    <tr>\n",
       "      <th>3045</th>\n",
       "      <td>0.201050</td>\n",
       "      <td>ecfp4_1024</td>\n",
       "      <td>toxval</td>\n",
       "    </tr>\n",
       "  </tbody>\n",
       "</table>\n",
       "<p>3046 rows × 3 columns</p>\n",
       "</div>"
      ],
      "text/plain": [
       "      delta_auc_pr     feature dataset\n",
       "0         0.249536  ecfp4_1024   nci60\n",
       "1         0.037207  ecfp4_1024   nci60\n",
       "2         0.043833  ecfp4_1024   nci60\n",
       "3         0.002620  ecfp4_1024   nci60\n",
       "4         0.010916  ecfp4_1024   nci60\n",
       "...            ...         ...     ...\n",
       "3041      0.230764  ecfp4_1024  toxval\n",
       "3042      0.009216  ecfp4_1024  toxval\n",
       "3043      0.039733  ecfp4_1024  toxval\n",
       "3044      0.207688  ecfp4_1024  toxval\n",
       "3045      0.201050  ecfp4_1024  toxval\n",
       "\n",
       "[3046 rows x 3 columns]"
      ]
     },
     "execution_count": 4,
     "metadata": {},
     "output_type": "execute_result"
    }
   ],
   "source": [
    "df_final"
   ]
  },
  {
   "cell_type": "code",
   "execution_count": 6,
   "id": "1ad4276c",
   "metadata": {},
   "outputs": [
    {
     "data": {
      "image/png": "[encoded data removed]",
      "text/plain": [
       "<Figure size 1200x800 with 1 Axes>"
      ]
     },
     "metadata": {},
     "output_type": "display_data"
    }
   ],
   "source": [
    "import numpy as np\n",
    "\n",
    "datasets = df_final[\"dataset\"].unique().tolist()\n",
    "features = df_final[\"feature\"].unique().tolist()\n",
    "feature_width = 0.35  # the width of the bars\n",
    "\n",
    "fig, ax = plt.subplots(figsize=(12, 8))\n",
    "\n",
    "# Create an array of dataset indices for plot positioning\n",
    "dataset_indices = np.arange(len(datasets))\n",
    "\n",
    "for idx, feature in enumerate(features):\n",
    "    feature_data = df_final[df_final[\"feature\"] == feature]\n",
    "    median_values = [feature_data[feature_data[\"dataset\"] == dataset][\"delta_auc_pr\"].median() for dataset in datasets]\n",
    "    rects = ax.bar(dataset_indices - feature_width/2 + idx*feature_width, median_values, feature_width, label=feature)\n",
    "\n",
    "ax.set_xlabel('Dataset')\n",
    "ax.set_ylabel('Delta AUC PR')\n",
    "ax.set_title('Delta AUC PR by feature and dataset')\n",
    "ax.set_xticks(dataset_indices)\n",
    "ax.set_xticklabels(datasets)\n",
    "ax.legend()\n",
    "\n",
    "plt.tight_layout()\n",
    "plt.show()"
   ]
  }
 ],
 "metadata": {
  "kernelspec": {
   "display_name": "fs-tox",
   "language": "python",
   "name": "fs-tox"
  },
  "language_info": {
   "codemirror_mode": {
    "name": "ipython",
    "version": 3
   },
   "file_extension": ".py",
   "mimetype": "text/x-python",
   "name": "python",
   "nbconvert_exporter": "python",
   "pygments_lexer": "ipython3",
   "version": "3.11.3"
  }
 },
 "nbformat": 4,
 "nbformat_minor": 5
}
