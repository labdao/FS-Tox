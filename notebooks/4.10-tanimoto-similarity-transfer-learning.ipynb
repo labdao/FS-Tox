{
 "cells": [
  {
   "cell_type": "markdown",
   "id": "6ac1b2bc",
   "metadata": {},
   "source": [
    "# Applying trained models to other assays (tasks)"
   ]
  },
  {
   "cell_type": "markdown",
   "id": "3f2437c4",
   "metadata": {},
   "source": [
    "I want to take a model that is trained on one assay, then use it for prediction on another assay. I then want to see whether predictive performance correlates with tanimoto similarity.\n",
    "\n",
    "These are the steps for doing this:\n",
    "- Sample 100 models from nci60\n",
    "- Apply these to the meic task\n",
    "- Evaluate model predictive performance\n",
    "- Calculate similarity scores"
   ]
  },
  {
   "cell_type": "code",
   "execution_count": 46,
   "id": "c2b11198",
   "metadata": {},
   "outputs": [],
   "source": [
    "import os\n",
    "import sys\n",
    "import pandas as pd\n",
    "import pickle\n",
    "\n",
    "sys.path.append('../src')\n",
    "\n",
    "from models.utils import construct_query, load_representations, load_assays, mod_test_train_split"
   ]
  },
  {
   "cell_type": "markdown",
   "id": "2163e520",
   "metadata": {},
   "source": [
    "## Sample models from nci60"
   ]
  },
  {
   "cell_type": "code",
   "execution_count": 37,
   "id": "70f1799a",
   "metadata": {},
   "outputs": [],
   "source": [
    "NCI60_MODELS = \"/Users/sethhowes/Desktop/FS-Tox/multirun/2023-07-27/12-00-04/params.dataset=nci60/data/processed/model\"\n",
    "model_filepaths = os.listdir(NCI60_MODELS)\n",
    "model_filepaths = [f\"{NCI60_MODELS}/{model_filepath}\" for model_filepath in model_filepaths]\n",
    "\n",
    "feature_filepath = \"/Users/sethhowes/Desktop/FS-Tox/multirun/2023-07-27/12-00-04/params.dataset=meic/data/processed/feature\"\n",
    "assay_filepath = \"/Users/sethhowes/Desktop/FS-Tox/multirun/2023-07-27/12-00-04/params.dataset=meic/data/processed/assay\"\n",
    "representation = \"ecfp4_1024\"\n",
    "dataset = \"meic\""
   ]
  },
  {
   "cell_type": "markdown",
   "id": "631310c6",
   "metadata": {},
   "source": [
    "## Apply models to the meic task"
   ]
  },
  {
   "cell_type": "code",
   "execution_count": 51,
   "id": "a29fe703",
   "metadata": {},
   "outputs": [],
   "source": [
    "#Create a SQL query as a string to select relevant representations\n",
    "representation_query = construct_query(feature_filepath, representation)\n",
    "\n",
    "# Load representations from parquet files\n",
    "representation_df = load_representations(representation_query)\n",
    "\n",
    "# Load the assays\n",
    "assay_dfs = load_assays(assay_filepath, dataset)\n",
    "\n",
    "# Merge the representations and assays\n",
    "merged_df = pd.merge(\n",
    "    representation_df, assay_dfs[0][0], on=\"canonical_smiles\", how=\"inner\"\n",
    ")\n",
    "\n",
    "merged_df.drop(columns=\"params.dataset\", inplace=True)\n",
    "\n",
    "# Conduct test train split\n",
    "_, X_test, _, y_test = mod_test_train_split(merged_df)\n",
    "\n",
    "for "
   ]
  },
  {
   "cell_type": "markdown",
   "id": "442a0c3b",
   "metadata": {},
   "source": [
    "## Evaluate model predictive performance"
   ]
  },
  {
   "cell_type": "markdown",
   "id": "db3d98d2",
   "metadata": {},
   "source": [
    "## Calculate similarity scores"
   ]
  }
 ],
 "metadata": {
  "kernelspec": {
   "display_name": "fs-tox",
   "language": "python",
   "name": "fs-tox"
  },
  "language_info": {
   "codemirror_mode": {
    "name": "ipython",
    "version": 3
   },
   "file_extension": ".py",
   "mimetype": "text/x-python",
   "name": "python",
   "nbconvert_exporter": "python",
   "pygments_lexer": "ipython3",
   "version": "3.11.3"
  }
 },
 "nbformat": 4,
 "nbformat_minor": 5
}
