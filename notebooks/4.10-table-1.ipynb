{
 "cells": [
  {
   "cell_type": "markdown",
   "id": "af6a75e0",
   "metadata": {},
   "source": [
    "# Table 1\n",
    "I want to include the following information regarding each dataset in my table:\n",
    "- \\# tasks\n",
    "- \\# compounds\n",
    "- \\# median compounds per task\n",
    "- source\n",
    "- raw values available?"
   ]
  },
  {
   "cell_type": "code",
   "execution_count": 75,
   "id": "baca294a",
   "metadata": {},
   "outputs": [],
   "source": [
    "import pandas as pd\n",
    "import os\n",
    "import statistics\n",
    "\n",
    "import duckdb"
   ]
  },
  {
   "cell_type": "code",
   "execution_count": 50,
   "id": "43672a97",
   "metadata": {},
   "outputs": [],
   "source": [
    "input_dir = \"/Users/sethhowes/Desktop/FS-Tox/multirun/2023-08-10/11-46-00\"\n",
    "run_dirs = os.listdir(input_dir)\n",
    "run_dirs = [f\"{input_dir}/{run_dir}\" for run_dir in run_dirs]\n",
    "assay_dirs = [f\"{run_dir}/data/processed/assay\" for run_dir in run_dirs]\n",
    "mol_dirs = [f\"{run_dir}/data/processed/feature\" for run_dir in run_dirs]"
   ]
  },
  {
   "cell_type": "code",
   "execution_count": 57,
   "id": "00706afc",
   "metadata": {},
   "outputs": [],
   "source": [
    "datasets = [os.path.basename(run_dir).split(\"=\")[1] for run_dir in run_dirs]\n",
    "rows = [\"# tasks\", \"# small molecules\", \"median # compounds per task\", \"source\", \"raw values available?\"]\n",
    "sources = [\"Wellcome Sanger / Mass General\", \"NCI\", \"US EPA\", \"?\", \"Zhu 2009\", \"US EPA\", \"Ekwall 1998\"]\n",
    "raw_vals = [\"Yes\"] * 2 + [\"No\"] + [\"Yes\"] * 4"
   ]
  },
  {
   "cell_type": "code",
   "execution_count": 69,
   "id": "782cddb8",
   "metadata": {},
   "outputs": [
    {
     "data": {
      "text/plain": [
       "['cancerrx',\n",
       " 'nci60',\n",
       " 'toxcast',\n",
       " 'prism',\n",
       " 'acute_oral_toxicity',\n",
       " 'toxval',\n",
       " 'meic']"
      ]
     },
     "execution_count": 69,
     "metadata": {},
     "output_type": "execute_result"
    }
   ],
   "source": [
    "#datasets.remove('meic')\n",
    "datasets.append('meic')\n",
    "datasets"
   ]
  },
  {
   "cell_type": "code",
   "execution_count": 70,
   "id": "42b5aa37",
   "metadata": {},
   "outputs": [],
   "source": [
    "meta_dataset = ['in-vitro'] * 4 + ['in-vivo'] * 2 + ['human']"
   ]
  },
  {
   "cell_type": "code",
   "execution_count": 71,
   "id": "e3bd24a7",
   "metadata": {},
   "outputs": [],
   "source": [
    "stats = pd.DataFrame(columns=datasets, index=rows)\n",
    "\n",
    "con = duckdb.connect()\n",
    "\n",
    "for i, (dataset, assay_dir, mol_dir, raw_val, source) in enumerate(zip(datasets, assay_dirs, mol_dirs, raw_vals, sources)):\n",
    "    \n",
    "    dataset_stats = []\n",
    "    \n",
    "    # Get # tasks\n",
    "    num_tasks = len([f for f in os.listdir(assay_dir)])\n",
    "    dataset_stats.append(num_tasks)\n",
    "    \n",
    "    # Get # compounds\n",
    "    query = f\"SELECT COUNT(DISTINCT canonical_smiles) FROM read_parquet('{mol_dir}/*')\"\n",
    "    num_compounds = con.execute(query).fetchone()[0]\n",
    "    dataset_stats.append(num_compounds)\n",
    "                     \n",
    "    # Get median # compounds per task\n",
    "    query = f\"SELECT COUNT(*) AS num FROM read_parquet('{assay_dir}/*') GROUP BY assay_id\"\n",
    "    median_task = con.execute(query).df()\n",
    "    median_task = median_task['num'].median()\n",
    "    dataset_stats.append(median_task)\n",
    "    \n",
    "    # Add source and raw val\n",
    "    dataset_stats.append(source)\n",
    "    dataset_stats.append(raw_val)\n",
    "    \n",
    "    # Add column\n",
    "    stats[dataset] = dataset_stats"
   ]
  },
  {
   "cell_type": "code",
   "execution_count": 72,
   "id": "1b509d0e",
   "metadata": {},
   "outputs": [],
   "source": [
    "stats.columns = pd.MultiIndex.from_arrays([meta_dataset, datasets], names=('meta', 'dataset'))"
   ]
  },
  {
   "cell_type": "code",
   "execution_count": 73,
   "id": "977cba13",
   "metadata": {},
   "outputs": [
    {
     "data": {
      "text/html": [
       "<div>\n",
       "<style scoped>\n",
       "    .dataframe tbody tr th:only-of-type {\n",
       "        vertical-align: middle;\n",
       "    }\n",
       "\n",
       "    .dataframe tbody tr th {\n",
       "        vertical-align: top;\n",
       "    }\n",
       "\n",
       "    .dataframe thead tr th {\n",
       "        text-align: left;\n",
       "    }\n",
       "</style>\n",
       "<table border=\"1\" class=\"dataframe\">\n",
       "  <thead>\n",
       "    <tr>\n",
       "      <th>meta</th>\n",
       "      <th colspan=\"4\" halign=\"left\">in-vitro</th>\n",
       "      <th colspan=\"2\" halign=\"left\">in-vivo</th>\n",
       "      <th>human</th>\n",
       "    </tr>\n",
       "    <tr>\n",
       "      <th>dataset</th>\n",
       "      <th>cancerrx</th>\n",
       "      <th>nci60</th>\n",
       "      <th>toxcast</th>\n",
       "      <th>prism</th>\n",
       "      <th>acute_oral_toxicity</th>\n",
       "      <th>toxval</th>\n",
       "      <th>meic</th>\n",
       "    </tr>\n",
       "  </thead>\n",
       "  <tbody>\n",
       "    <tr>\n",
       "      <th># tasks</th>\n",
       "      <td>967</td>\n",
       "      <td>67</td>\n",
       "      <td>3</td>\n",
       "      <td>125</td>\n",
       "      <td>482</td>\n",
       "      <td>1</td>\n",
       "      <td>38</td>\n",
       "    </tr>\n",
       "    <tr>\n",
       "      <th># small molecules</th>\n",
       "      <td>227</td>\n",
       "      <td>28519</td>\n",
       "      <td>47</td>\n",
       "      <td>3429</td>\n",
       "      <td>657</td>\n",
       "      <td>7342</td>\n",
       "      <td>1150</td>\n",
       "    </tr>\n",
       "    <tr>\n",
       "      <th>median # compounds per task</th>\n",
       "      <td>211.0</td>\n",
       "      <td>84.0</td>\n",
       "      <td>47.0</td>\n",
       "      <td>113.0</td>\n",
       "      <td>604.5</td>\n",
       "      <td>7385.0</td>\n",
       "      <td>54.5</td>\n",
       "    </tr>\n",
       "    <tr>\n",
       "      <th>source</th>\n",
       "      <td>Wellcome Sanger / Mass General</td>\n",
       "      <td>NCI</td>\n",
       "      <td>US EPA</td>\n",
       "      <td>?</td>\n",
       "      <td>Zhu 2009</td>\n",
       "      <td>US EPA</td>\n",
       "      <td>Ekwall 1998</td>\n",
       "    </tr>\n",
       "    <tr>\n",
       "      <th>raw values available?</th>\n",
       "      <td>Yes</td>\n",
       "      <td>Yes</td>\n",
       "      <td>No</td>\n",
       "      <td>Yes</td>\n",
       "      <td>Yes</td>\n",
       "      <td>Yes</td>\n",
       "      <td>Yes</td>\n",
       "    </tr>\n",
       "  </tbody>\n",
       "</table>\n",
       "</div>"
      ],
      "text/plain": [
       "meta                                               in-vitro                 \\\n",
       "dataset                                            cancerrx  nci60 toxcast   \n",
       "# tasks                                                 967     67       3   \n",
       "# small molecules                                       227  28519      47   \n",
       "median # compounds per task                           211.0   84.0    47.0   \n",
       "source                       Wellcome Sanger / Mass General    NCI  US EPA   \n",
       "raw values available?                                   Yes    Yes      No   \n",
       "\n",
       "meta                                           in-vivo                human  \n",
       "dataset                      prism acute_oral_toxicity  toxval         meic  \n",
       "# tasks                        125                 482       1           38  \n",
       "# small molecules             3429                 657    7342         1150  \n",
       "median # compounds per task  113.0               604.5  7385.0         54.5  \n",
       "source                           ?            Zhu 2009  US EPA  Ekwall 1998  \n",
       "raw values available?          Yes                 Yes     Yes          Yes  "
      ]
     },
     "execution_count": 73,
     "metadata": {},
     "output_type": "execute_result"
    }
   ],
   "source": [
    "stats"
   ]
  },
  {
   "cell_type": "markdown",
   "id": "5ce244a1",
   "metadata": {},
   "source": [
    "## Median tasks in entire benchmark"
   ]
  },
  {
   "cell_type": "code",
   "execution_count": 77,
   "id": "7f3d9871",
   "metadata": {},
   "outputs": [
    {
     "data": {
      "text/plain": [
       "113.0"
      ]
     },
     "execution_count": 77,
     "metadata": {},
     "output_type": "execute_result"
    }
   ],
   "source": [
    "median_task = []\n",
    "\n",
    "con = duckdb.connect()\n",
    "\n",
    "for i, (dataset, assay_dir, mol_dir, raw_val, source) in enumerate(zip(datasets, assay_dirs, mol_dirs, raw_vals, sources)):\n",
    "                     \n",
    "    # Get median # compounds per task\n",
    "    query = f\"SELECT COUNT(*) AS num FROM read_parquet('{assay_dir}/*') GROUP BY assay_id\"\n",
    "    median_task.append(con.execute(query).df()['num'].median())\n",
    "\n",
    "statistics.median(median_task)"
   ]
  }
 ],
 "metadata": {
  "kernelspec": {
   "display_name": "fs-tox",
   "language": "python",
   "name": "fs-tox"
  },
  "language_info": {
   "codemirror_mode": {
    "name": "ipython",
    "version": 3
   },
   "file_extension": ".py",
   "mimetype": "text/x-python",
   "name": "python",
   "nbconvert_exporter": "python",
   "pygments_lexer": "ipython3",
   "version": "3.11.3"
  }
 },
 "nbformat": 4,
 "nbformat_minor": 5
}
