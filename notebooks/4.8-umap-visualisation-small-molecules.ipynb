{
 "cells": [
  {
   "cell_type": "markdown",
   "id": "fb48b922",
   "metadata": {},
   "source": [
    "# UMAP small molecules"
   ]
  },
  {
   "cell_type": "code",
   "execution_count": 1,
   "id": "8113662f",
   "metadata": {},
   "outputs": [
    {
     "name": "stderr",
     "output_type": "stream",
     "text": [
      "/Users/sethhowes/miniconda3/envs/fs-tox/lib/python3.11/site-packages/umap/distances.py:1063: NumbaDeprecationWarning: The 'nopython' keyword argument was not supplied to the 'numba.jit' decorator. The implicit default value for this argument is currently False, but it will be changed to True in Numba 0.59.0. See https://numba.readthedocs.io/en/stable/reference/deprecation.html#deprecation-of-object-mode-fall-back-behaviour-when-using-jit for details.\n",
      "  @numba.jit()\n",
      "/Users/sethhowes/miniconda3/envs/fs-tox/lib/python3.11/site-packages/umap/distances.py:1071: NumbaDeprecationWarning: The 'nopython' keyword argument was not supplied to the 'numba.jit' decorator. The implicit default value for this argument is currently False, but it will be changed to True in Numba 0.59.0. See https://numba.readthedocs.io/en/stable/reference/deprecation.html#deprecation-of-object-mode-fall-back-behaviour-when-using-jit for details.\n",
      "  @numba.jit()\n",
      "/Users/sethhowes/miniconda3/envs/fs-tox/lib/python3.11/site-packages/umap/distances.py:1086: NumbaDeprecationWarning: The 'nopython' keyword argument was not supplied to the 'numba.jit' decorator. The implicit default value for this argument is currently False, but it will be changed to True in Numba 0.59.0. See https://numba.readthedocs.io/en/stable/reference/deprecation.html#deprecation-of-object-mode-fall-back-behaviour-when-using-jit for details.\n",
      "  @numba.jit()\n",
      "/Users/sethhowes/miniconda3/envs/fs-tox/lib/python3.11/site-packages/tqdm/auto.py:21: TqdmWarning: IProgress not found. Please update jupyter and ipywidgets. See https://ipywidgets.readthedocs.io/en/stable/user_install.html\n",
      "  from .autonotebook import tqdm as notebook_tqdm\n",
      "/Users/sethhowes/miniconda3/envs/fs-tox/lib/python3.11/site-packages/umap/umap_.py:660: NumbaDeprecationWarning: The 'nopython' keyword argument was not supplied to the 'numba.jit' decorator. The implicit default value for this argument is currently False, but it will be changed to True in Numba 0.59.0. See https://numba.readthedocs.io/en/stable/reference/deprecation.html#deprecation-of-object-mode-fall-back-behaviour-when-using-jit for details.\n",
      "  @numba.jit()\n"
     ]
    }
   ],
   "source": [
    "import os\n",
    "import pandas as pd\n",
    "import matplotlib.pyplot as plt\n",
    "import seaborn as sns\n",
    "import umap.umap_ as umap\n",
    "import duckdb;"
   ]
  },
  {
   "cell_type": "markdown",
   "id": "bff70454",
   "metadata": {},
   "source": [
    "# UMAP for ECFP4"
   ]
  },
  {
   "cell_type": "code",
   "execution_count": 2,
   "id": "98cb7591",
   "metadata": {},
   "outputs": [],
   "source": [
    "RUN_DIR = '/Users/sethhowes/Desktop/FS-Tox/multirun/2023-07-31/14-49-41'\n",
    "run_dirs = os.listdir(RUN_DIR)\n",
    "ecfp4_feature_dirs = [f\"{RUN_DIR}/{run_dir}/data/processed/feature/ecfp4_1024.parquet\" for run_dir in run_dirs if all(x not in run_dir for x in [\".DS_Store\", \"multirun.yaml\"])]\n",
    "ecfp4_feature_dirs = [run_dir for run_dir in ecfp4_feature_dirs if 'chemberta' not in run_dir]"
   ]
  },
  {
   "cell_type": "code",
   "execution_count": 3,
   "id": "48242f05",
   "metadata": {
    "scrolled": true
   },
   "outputs": [],
   "source": [
    "ecfp4_assay_dirs = [f\"{RUN_DIR}/{run_dir}/data/processed/assay\" for run_dir in run_dirs if all(x not in run_dir for x in [\".DS_Store\", \"multirun.yaml\"]) and ('chemberta' not in run_dir)]"
   ]
  },
  {
   "cell_type": "code",
   "execution_count": 4,
   "id": "885f6300",
   "metadata": {},
   "outputs": [],
   "source": [
    "con = duckdb.connect()\n",
    "\n",
    "dfs = []\n",
    "\n",
    "for assay_dir, feature_dir in zip(ecfp4_assay_dirs, ecfp4_feature_dirs):\n",
    "    query = f\"\"\"\n",
    "    SELECT *\n",
    "    FROM read_parquet('{assay_dir}/*') as A\n",
    "    JOIN read_parquet('{feature_dir}') as B ON A.canonical_smiles = B.canonical_smiles\n",
    "    \"\"\"\n",
    "    df = con.execute(query).df()\n",
    "    dfs.append(df)\n",
    "    \n",
    "full_df = pd.concat(dfs)"
   ]
  },
  {
   "cell_type": "code",
   "execution_count": 5,
   "id": "2ab388d5",
   "metadata": {},
   "outputs": [
    {
     "data": {
      "text/html": [
       "<div>\n",
       "<style scoped>\n",
       "    .dataframe tbody tr th:only-of-type {\n",
       "        vertical-align: middle;\n",
       "    }\n",
       "\n",
       "    .dataframe tbody tr th {\n",
       "        vertical-align: top;\n",
       "    }\n",
       "\n",
       "    .dataframe thead th {\n",
       "        text-align: right;\n",
       "    }\n",
       "</style>\n",
       "<table border=\"1\" class=\"dataframe\">\n",
       "  <thead>\n",
       "    <tr style=\"text-align: right;\">\n",
       "      <th></th>\n",
       "      <th>canonical_smiles</th>\n",
       "      <th>ground_truth</th>\n",
       "      <th>support_query</th>\n",
       "      <th>assay_id</th>\n",
       "      <th>source_id</th>\n",
       "      <th>canonical_smiles_2</th>\n",
       "      <th>bit_0</th>\n",
       "      <th>bit_1</th>\n",
       "      <th>bit_2</th>\n",
       "      <th>bit_3</th>\n",
       "      <th>...</th>\n",
       "      <th>bit_1015</th>\n",
       "      <th>bit_1016</th>\n",
       "      <th>bit_1017</th>\n",
       "      <th>bit_1018</th>\n",
       "      <th>bit_1019</th>\n",
       "      <th>bit_1020</th>\n",
       "      <th>bit_1021</th>\n",
       "      <th>bit_1022</th>\n",
       "      <th>bit_1023</th>\n",
       "      <th>representation</th>\n",
       "    </tr>\n",
       "  </thead>\n",
       "  <tbody>\n",
       "    <tr>\n",
       "      <th>0</th>\n",
       "      <td>NC(=O)c1ncn(CC2(CO)CCC2)c1N</td>\n",
       "      <td>1</td>\n",
       "      <td>0</td>\n",
       "      <td>6d20ff4bc35b517</td>\n",
       "      <td>nci60</td>\n",
       "      <td>NC(=O)c1ncn(CC2(CO)CCC2)c1N</td>\n",
       "      <td>0</td>\n",
       "      <td>0</td>\n",
       "      <td>0</td>\n",
       "      <td>0</td>\n",
       "      <td>...</td>\n",
       "      <td>0</td>\n",
       "      <td>0</td>\n",
       "      <td>0</td>\n",
       "      <td>0</td>\n",
       "      <td>0</td>\n",
       "      <td>0</td>\n",
       "      <td>0</td>\n",
       "      <td>0</td>\n",
       "      <td>0</td>\n",
       "      <td>ecfp4_1024</td>\n",
       "    </tr>\n",
       "    <tr>\n",
       "      <th>1</th>\n",
       "      <td>N=c1ccn(C2OC(CO)C3O[Sn](c4ccccc4)(c4ccccc4)OC3...</td>\n",
       "      <td>0</td>\n",
       "      <td>0</td>\n",
       "      <td>6d20ff4bc35b517</td>\n",
       "      <td>nci60</td>\n",
       "      <td>N=c1ccn(C2OC(CO)C3O[Sn](c4ccccc4)(c4ccccc4)OC3...</td>\n",
       "      <td>0</td>\n",
       "      <td>0</td>\n",
       "      <td>0</td>\n",
       "      <td>0</td>\n",
       "      <td>...</td>\n",
       "      <td>0</td>\n",
       "      <td>0</td>\n",
       "      <td>0</td>\n",
       "      <td>0</td>\n",
       "      <td>1</td>\n",
       "      <td>0</td>\n",
       "      <td>0</td>\n",
       "      <td>0</td>\n",
       "      <td>0</td>\n",
       "      <td>ecfp4_1024</td>\n",
       "    </tr>\n",
       "    <tr>\n",
       "      <th>2</th>\n",
       "      <td>c1ccc(C2=NOC3(c4ccccc4)CC(c4cccs4)Sc4ccccc4N23...</td>\n",
       "      <td>1</td>\n",
       "      <td>0</td>\n",
       "      <td>66c2e2812b74643</td>\n",
       "      <td>nci60</td>\n",
       "      <td>c1ccc(C2=NOC3(c4ccccc4)CC(c4cccs4)Sc4ccccc4N23...</td>\n",
       "      <td>0</td>\n",
       "      <td>0</td>\n",
       "      <td>0</td>\n",
       "      <td>0</td>\n",
       "      <td>...</td>\n",
       "      <td>0</td>\n",
       "      <td>0</td>\n",
       "      <td>0</td>\n",
       "      <td>0</td>\n",
       "      <td>1</td>\n",
       "      <td>0</td>\n",
       "      <td>0</td>\n",
       "      <td>0</td>\n",
       "      <td>0</td>\n",
       "      <td>ecfp4_1024</td>\n",
       "    </tr>\n",
       "    <tr>\n",
       "      <th>3</th>\n",
       "      <td>N=c1[nH]c(=S)c2ncn(C3OC(CO)C(O)C3O)c2[nH]1.Nc1...</td>\n",
       "      <td>0</td>\n",
       "      <td>1</td>\n",
       "      <td>6d20ff4bc35b517</td>\n",
       "      <td>nci60</td>\n",
       "      <td>N=c1[nH]c(=S)c2ncn(C3OC(CO)C(O)C3O)c2[nH]1.Nc1...</td>\n",
       "      <td>0</td>\n",
       "      <td>0</td>\n",
       "      <td>0</td>\n",
       "      <td>0</td>\n",
       "      <td>...</td>\n",
       "      <td>0</td>\n",
       "      <td>0</td>\n",
       "      <td>0</td>\n",
       "      <td>0</td>\n",
       "      <td>1</td>\n",
       "      <td>0</td>\n",
       "      <td>0</td>\n",
       "      <td>0</td>\n",
       "      <td>0</td>\n",
       "      <td>ecfp4_1024</td>\n",
       "    </tr>\n",
       "    <tr>\n",
       "      <th>4</th>\n",
       "      <td>CN(C)CC1CCC2=C(C1=O)C(c1ccc(Cl)c(Cl)c1)C1=C(CC...</td>\n",
       "      <td>0</td>\n",
       "      <td>1</td>\n",
       "      <td>6d20ff4bc35b517</td>\n",
       "      <td>nci60</td>\n",
       "      <td>CN(C)CC1CCC2=C(C1=O)C(c1ccc(Cl)c(Cl)c1)C1=C(CC...</td>\n",
       "      <td>0</td>\n",
       "      <td>0</td>\n",
       "      <td>0</td>\n",
       "      <td>0</td>\n",
       "      <td>...</td>\n",
       "      <td>0</td>\n",
       "      <td>0</td>\n",
       "      <td>0</td>\n",
       "      <td>0</td>\n",
       "      <td>1</td>\n",
       "      <td>0</td>\n",
       "      <td>0</td>\n",
       "      <td>0</td>\n",
       "      <td>0</td>\n",
       "      <td>ecfp4_1024</td>\n",
       "    </tr>\n",
       "  </tbody>\n",
       "</table>\n",
       "<p>5 rows × 1031 columns</p>\n",
       "</div>"
      ],
      "text/plain": [
       "                                    canonical_smiles  ground_truth  \\\n",
       "0                        NC(=O)c1ncn(CC2(CO)CCC2)c1N             1   \n",
       "1  N=c1ccn(C2OC(CO)C3O[Sn](c4ccccc4)(c4ccccc4)OC3...             0   \n",
       "2  c1ccc(C2=NOC3(c4ccccc4)CC(c4cccs4)Sc4ccccc4N23...             1   \n",
       "3  N=c1[nH]c(=S)c2ncn(C3OC(CO)C(O)C3O)c2[nH]1.Nc1...             0   \n",
       "4  CN(C)CC1CCC2=C(C1=O)C(c1ccc(Cl)c(Cl)c1)C1=C(CC...             0   \n",
       "\n",
       "   support_query         assay_id source_id  \\\n",
       "0              0  6d20ff4bc35b517     nci60   \n",
       "1              0  6d20ff4bc35b517     nci60   \n",
       "2              0  66c2e2812b74643     nci60   \n",
       "3              1  6d20ff4bc35b517     nci60   \n",
       "4              1  6d20ff4bc35b517     nci60   \n",
       "\n",
       "                                  canonical_smiles_2  bit_0  bit_1  bit_2  \\\n",
       "0                        NC(=O)c1ncn(CC2(CO)CCC2)c1N      0      0      0   \n",
       "1  N=c1ccn(C2OC(CO)C3O[Sn](c4ccccc4)(c4ccccc4)OC3...      0      0      0   \n",
       "2  c1ccc(C2=NOC3(c4ccccc4)CC(c4cccs4)Sc4ccccc4N23...      0      0      0   \n",
       "3  N=c1[nH]c(=S)c2ncn(C3OC(CO)C(O)C3O)c2[nH]1.Nc1...      0      0      0   \n",
       "4  CN(C)CC1CCC2=C(C1=O)C(c1ccc(Cl)c(Cl)c1)C1=C(CC...      0      0      0   \n",
       "\n",
       "   bit_3  ...  bit_1015  bit_1016  bit_1017  bit_1018  bit_1019  bit_1020  \\\n",
       "0      0  ...         0         0         0         0         0         0   \n",
       "1      0  ...         0         0         0         0         1         0   \n",
       "2      0  ...         0         0         0         0         1         0   \n",
       "3      0  ...         0         0         0         0         1         0   \n",
       "4      0  ...         0         0         0         0         1         0   \n",
       "\n",
       "   bit_1021  bit_1022  bit_1023  representation  \n",
       "0         0         0         0      ecfp4_1024  \n",
       "1         0         0         0      ecfp4_1024  \n",
       "2         0         0         0      ecfp4_1024  \n",
       "3         0         0         0      ecfp4_1024  \n",
       "4         0         0         0      ecfp4_1024  \n",
       "\n",
       "[5 rows x 1031 columns]"
      ]
     },
     "execution_count": 5,
     "metadata": {},
     "output_type": "execute_result"
    }
   ],
   "source": [
    "full_df.head()"
   ]
  },
  {
   "cell_type": "code",
   "execution_count": 21,
   "id": "fa75a69d",
   "metadata": {},
   "outputs": [],
   "source": [
    "# Conduct stratified subsampling on full_df\n",
    "sampled_df = full_df.groupby('source_id').apply(lambda x: x.sample(frac=0.05))"
   ]
  },
  {
   "cell_type": "code",
   "execution_count": 22,
   "id": "95aacf4b",
   "metadata": {},
   "outputs": [],
   "source": [
    "feature_df = sampled_df.drop(columns=['canonical_smiles', \"support_query\", \"ground_truth\", \"assay_id\", \"source_id\", \"canonical_smiles_2\", \"representation\"])"
   ]
  },
  {
   "cell_type": "code",
   "execution_count": null,
   "id": "01ee5037",
   "metadata": {},
   "outputs": [
    {
     "name": "stderr",
     "output_type": "stream",
     "text": [
      "/Users/sethhowes/miniconda3/envs/fs-tox/lib/python3.11/site-packages/umap/umap_.py:1802: UserWarning: gradient function is not yet implemented for jaccard distance metric; inverse_transform will be unavailable\n",
      "  warn(\n"
     ]
    }
   ],
   "source": [
    "# Create a dictionary to map source_id to colors\n",
    "color_dict = {\"nci60\":0, \"toxval\":1, \"toxcast\":2, \"prism\":3, \"cancerrx\":4, \"acute_oral_toxicity\":5, \"meic\":6}\n",
    "\n",
    "# Apply UMAP\n",
    "data = feature_df.values\n",
    "reducer = umap.UMAP(n_components=2, metric='jaccard', n_neighbors=25, min_dist=0.5, random_state=42)\n",
    "embedding = reducer.fit_transform(data)\n",
    "\n",
    "# Convert the transformed data into a DataFrame\n",
    "embedding_df = pd.DataFrame(embedding, columns=['UMAP1', 'UMAP2'])\n",
    "\n",
    "# Reset the index of sampled_df before assigning\n",
    "embedding_df['source_id'] = sampled_df['source_id'].reset_index(drop=True)\n",
    "\n",
    "# Create the scatterplot\n",
    "plt.figure(figsize=(12,8))\n",
    "for source_id, color in color_dict.items():\n",
    "    indices_to_keep = embedding_df['source_id'] == source_id\n",
    "    plt.scatter(\n",
    "        embedding_df.loc[indices_to_keep, 'UMAP1'],\n",
    "        embedding_df.loc[indices_to_keep, 'UMAP2'],\n",
    "        c = sns.color_palette()[color],\n",
    "        s = 50,\n",
    "        label = source_id\n",
    "    )\n",
    "\n",
    "# Add a title and a legend\n",
    "plt.title('UMAP Projection')\n",
    "plt.legend()\n",
    "\n",
    "# Display the plot\n",
    "plt.show()\n"
   ]
  },
  {
   "cell_type": "markdown",
   "id": "6a49c291",
   "metadata": {},
   "source": [
    "# UMAP for Chemberta embeddings"
   ]
  },
  {
   "cell_type": "code",
   "execution_count": null,
   "id": "8330ad05",
   "metadata": {},
   "outputs": [],
   "source": [
    "RUN_DIR = '/Users/sethhowes/Desktop/FS-Tox/multirun/2023-07-31/14-49-41'\n",
    "run_dirs = os.listdir(RUN_DIR)\n",
    "ecfp4_feature_dirs = [f\"{RUN_DIR}/{run_dir}/data/processed/feature/chemberta_1024.parquet\" for run_dir in run_dirs if all(x not in run_dir for x in [\".DS_Store\", \"multirun.yaml\"])]\n",
    "ecfp4_feature_dirs = [run_dir for run_dir in ecfp4_feature_dirs if 'ecfp4_1024' not in run_dir]"
   ]
  },
  {
   "cell_type": "code",
   "execution_count": null,
   "id": "5525e023",
   "metadata": {},
   "outputs": [],
   "source": [
    "ecfp4_assay_dirs = [f\"{RUN_DIR}/{run_dir}/data/processed/assay\" for run_dir in run_dirs if all(x not in run_dir for x in [\".DS_Store\", \"multirun.yaml\"]) and ('ecfp4_1024' not in run_dir)]"
   ]
  },
  {
   "cell_type": "code",
   "execution_count": null,
   "id": "f86bcf17",
   "metadata": {},
   "outputs": [],
   "source": [
    "con = duckdb.connect()\n",
    "\n",
    "dfs = []\n",
    "\n",
    "for assay_dir, feature_dir in zip(ecfp4_assay_dirs, ecfp4_feature_dirs):\n",
    "    query = f\"\"\"\n",
    "    SELECT *\n",
    "    FROM read_parquet('{assay_dir}/*') as A\n",
    "    JOIN read_parquet('{feature_dir}') as B ON A.canonical_smiles = B.canonical_smiles\n",
    "    \"\"\"\n",
    "    df = con.execute(query).df()\n",
    "    dfs.append(df)\n",
    "    \n",
    "full_df = pd.concat(dfs)"
   ]
  },
  {
   "cell_type": "code",
   "execution_count": null,
   "id": "76d30ee4",
   "metadata": {},
   "outputs": [],
   "source": [
    "full_df.head()"
   ]
  },
  {
   "cell_type": "code",
   "execution_count": null,
   "id": "8abdfd9c",
   "metadata": {},
   "outputs": [],
   "source": [
    "# Conduct stratified subsampling on full_df\n",
    "sampled_df = full_df.groupby('source_id').apply(lambda x: x.sample(frac=0.05))"
   ]
  },
  {
   "cell_type": "code",
   "execution_count": null,
   "id": "6d0ff514",
   "metadata": {},
   "outputs": [],
   "source": [
    "feature_df = sampled_df.drop(columns=['canonical_smiles', \"support_query\", \"ground_truth\", \"assay_id\", \"source_id\", \"canonical_smiles_2\", \"representation\"])"
   ]
  },
  {
   "cell_type": "code",
   "execution_count": null,
   "id": "529886ed",
   "metadata": {},
   "outputs": [],
   "source": [
    "# Create a dictionary to map source_id to colors\n",
    "color_dict = {\"nci60\":0, \"toxval\":1, \"toxcast\":2, \"prism\":3, \"cancerrx\":4, \"acute_oral_toxicity\":5, \"meic\":6}\n",
    "\n",
    "# Apply UMAP\n",
    "data = feature_df.values\n",
    "reducer = umap.UMAP(n_components=2, metric='jaccard', n_neighbors=25, min_dist=0.5, random_state=42)\n",
    "embedding = reducer.fit_transform(data)\n",
    "\n",
    "# Convert the transformed data into a DataFrame\n",
    "embedding_df = pd.DataFrame(embedding, columns=['UMAP1', 'UMAP2'])\n",
    "embedding_df['source_id'] = sampled_df['source_id']\n",
    "\n",
    "# Create the scatterplot\n",
    "plt.figure(figsize=(12,8))\n",
    "for source_id, color in color_dict.items():\n",
    "    indices_to_keep = embedding_df['source_id'] == source_id\n",
    "    plt.scatter(\n",
    "        embedding_df.loc[:, 'UMAP1'],\n",
    "        embedding_df.loc[:, 'UMAP2'],\n",
    "        c = sns.color_palette()[color],\n",
    "        s = 50,\n",
    "        label = source_id\n",
    "    )\n",
    "\n",
    "# Add a title and a legend\n",
    "plt.title('UMAP Projection')\n",
    "plt.legend()\n",
    "\n",
    "# Display the plot\n",
    "plt.show()\n"
   ]
  }
 ],
 "metadata": {
  "kernelspec": {
   "display_name": "fs-tox",
   "language": "python",
   "name": "fs-tox"
  },
  "language_info": {
   "codemirror_mode": {
    "name": "ipython",
    "version": 3
   },
   "file_extension": ".py",
   "mimetype": "text/x-python",
   "name": "python",
   "nbconvert_exporter": "python",
   "pygments_lexer": "ipython3",
   "version": "3.11.3"
  }
 },
 "nbformat": 4,
 "nbformat_minor": 5
}
