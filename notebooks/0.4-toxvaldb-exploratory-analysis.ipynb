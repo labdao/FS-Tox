{
 "cells": [
  {
   "attachments": {},
   "cell_type": "markdown",
   "metadata": {},
   "source": [
    "# Rationale\n",
    "There are several datasets that may be useful in constructing out benchmarking toxicity dataset. These are currently compiled in ToxValDB. I will assess the following characteristics for each database to determine whether they are suitable for inclusion in the dataset:\n",
    "- Model organisms used\n",
    "- Treatments used\n",
    "- Phenotypes assessed\n",
    "- Size\n",
    "- Quality / integrity"
   ]
  },
  {
   "attachments": {},
   "cell_type": "markdown",
   "metadata": {},
   "source": [
    "I will start by assessing the first two datasets listed in the repo:\n",
    "- ECOTOX\n",
    "- ECHA IUCLID"
   ]
  },
  {
   "cell_type": "code",
   "execution_count": 3,
   "metadata": {},
   "outputs": [],
   "source": [
    "import pandas as pd"
   ]
  },
  {
   "attachments": {},
   "cell_type": "markdown",
   "metadata": {},
   "source": [
    "# ECOTOX\n",
    "Contains POD data derived predominately from the peer-reviewed literature, for aquatic life, terrestrial plants, and terrestrial wildlife, respectively."
   ]
  },
  {
   "cell_type": "code",
   "execution_count": 51,
   "metadata": {},
   "outputs": [],
   "source": [
    "ecotox = pd.read_excel(\"/Users/sethhowes/Desktop/FS-Tox/data/raw/toxval_all_res_toxval_v94_ECOTOX.xlsx\")"
   ]
  },
  {
   "cell_type": "code",
   "execution_count": 11,
   "metadata": {},
   "outputs": [
    {
     "data": {
      "text/html": [
       "<div>\n",
       "<style scoped>\n",
       "    .dataframe tbody tr th:only-of-type {\n",
       "        vertical-align: middle;\n",
       "    }\n",
       "\n",
       "    .dataframe tbody tr th {\n",
       "        vertical-align: top;\n",
       "    }\n",
       "\n",
       "    .dataframe thead th {\n",
       "        text-align: right;\n",
       "    }\n",
       "</style>\n",
       "<table border=\"1\" class=\"dataframe\">\n",
       "  <thead>\n",
       "    <tr style=\"text-align: right;\">\n",
       "      <th></th>\n",
       "      <th>dtxsid</th>\n",
       "      <th>casrn</th>\n",
       "      <th>name</th>\n",
       "      <th>source</th>\n",
       "      <th>subsource</th>\n",
       "      <th>qc_status</th>\n",
       "      <th>risk_assessment_class</th>\n",
       "      <th>human_eco</th>\n",
       "      <th>toxval_type</th>\n",
       "      <th>toxval_type_original</th>\n",
       "      <th>...</th>\n",
       "      <th>document_name</th>\n",
       "      <th>toxval_type_category</th>\n",
       "      <th>source_url</th>\n",
       "      <th>subsource_url</th>\n",
       "      <th>toxval_id</th>\n",
       "      <th>source_hash</th>\n",
       "      <th>source_table</th>\n",
       "      <th>details_text</th>\n",
       "      <th>chemical_id</th>\n",
       "      <th>priority_id</th>\n",
       "    </tr>\n",
       "  </thead>\n",
       "  <tbody>\n",
       "    <tr>\n",
       "      <th>0</th>\n",
       "      <td>DTXSID901034504</td>\n",
       "      <td>78565-30-7</td>\n",
       "      <td>Swascofix P 14</td>\n",
       "      <td>ECOTOX</td>\n",
       "      <td>EPA ORD</td>\n",
       "      <td>pass</td>\n",
       "      <td>mortality</td>\n",
       "      <td>eco</td>\n",
       "      <td>LC50</td>\n",
       "      <td>LC50</td>\n",
       "      <td>...</td>\n",
       "      <td>-</td>\n",
       "      <td>LC</td>\n",
       "      <td>https://cfpub.epa.gov/ecotox/</td>\n",
       "      <td>-</td>\n",
       "      <td>931901</td>\n",
       "      <td>852f151c1e61779d8e5dd24c268199ea</td>\n",
       "      <td>direct_load</td>\n",
       "      <td>ECOTOX Details</td>\n",
       "      <td>ToxVal00034_0bd9881f481b02f8</td>\n",
       "      <td>4</td>\n",
       "    </tr>\n",
       "    <tr>\n",
       "      <th>1</th>\n",
       "      <td>DTXSID901034504</td>\n",
       "      <td>78565-30-7</td>\n",
       "      <td>Swascofix P 14</td>\n",
       "      <td>ECOTOX</td>\n",
       "      <td>EPA ORD</td>\n",
       "      <td>pass</td>\n",
       "      <td>mortality</td>\n",
       "      <td>eco</td>\n",
       "      <td>LC50</td>\n",
       "      <td>LC50</td>\n",
       "      <td>...</td>\n",
       "      <td>-</td>\n",
       "      <td>LC</td>\n",
       "      <td>https://cfpub.epa.gov/ecotox/</td>\n",
       "      <td>-</td>\n",
       "      <td>931902</td>\n",
       "      <td>550f670d6c1b236c1f4e99688d4e4de4</td>\n",
       "      <td>direct_load</td>\n",
       "      <td>ECOTOX Details</td>\n",
       "      <td>ToxVal00034_0bd9881f481b02f8</td>\n",
       "      <td>4</td>\n",
       "    </tr>\n",
       "    <tr>\n",
       "      <th>2</th>\n",
       "      <td>DTXSID8040858</td>\n",
       "      <td>9034-40-6</td>\n",
       "      <td>Gonadotrophin-releasing hormone</td>\n",
       "      <td>ECOTOX</td>\n",
       "      <td>EPA ORD</td>\n",
       "      <td>pass</td>\n",
       "      <td>reproduction</td>\n",
       "      <td>eco</td>\n",
       "      <td>NOEC</td>\n",
       "      <td>NOEC</td>\n",
       "      <td>...</td>\n",
       "      <td>-</td>\n",
       "      <td>NOEC</td>\n",
       "      <td>https://cfpub.epa.gov/ecotox/</td>\n",
       "      <td>-</td>\n",
       "      <td>931903</td>\n",
       "      <td>e3496ea6bd4567188787338cf048e1a1</td>\n",
       "      <td>direct_load</td>\n",
       "      <td>ECOTOX Details</td>\n",
       "      <td>ToxVal00034_bfc2c5b36e8e4418</td>\n",
       "      <td>4</td>\n",
       "    </tr>\n",
       "    <tr>\n",
       "      <th>3</th>\n",
       "      <td>DTXSID8040858</td>\n",
       "      <td>9034-40-6</td>\n",
       "      <td>Gonadotrophin-releasing hormone</td>\n",
       "      <td>ECOTOX</td>\n",
       "      <td>EPA ORD</td>\n",
       "      <td>pass</td>\n",
       "      <td>other</td>\n",
       "      <td>eco</td>\n",
       "      <td>LOEC</td>\n",
       "      <td>LOEC</td>\n",
       "      <td>...</td>\n",
       "      <td>-</td>\n",
       "      <td>LOEC</td>\n",
       "      <td>https://cfpub.epa.gov/ecotox/</td>\n",
       "      <td>-</td>\n",
       "      <td>931904</td>\n",
       "      <td>00bc590d6cc842738c49b3c48a337fbe</td>\n",
       "      <td>direct_load</td>\n",
       "      <td>ECOTOX Details</td>\n",
       "      <td>ToxVal00034_bfc2c5b36e8e4418</td>\n",
       "      <td>4</td>\n",
       "    </tr>\n",
       "    <tr>\n",
       "      <th>4</th>\n",
       "      <td>DTXSID8040858</td>\n",
       "      <td>9034-40-6</td>\n",
       "      <td>Gonadotrophin-releasing hormone</td>\n",
       "      <td>ECOTOX</td>\n",
       "      <td>EPA ORD</td>\n",
       "      <td>pass</td>\n",
       "      <td>other</td>\n",
       "      <td>eco</td>\n",
       "      <td>LOEC</td>\n",
       "      <td>LOEC</td>\n",
       "      <td>...</td>\n",
       "      <td>-</td>\n",
       "      <td>LOEC</td>\n",
       "      <td>https://cfpub.epa.gov/ecotox/</td>\n",
       "      <td>-</td>\n",
       "      <td>931905</td>\n",
       "      <td>1931ecfb04ce80e212115aecb82e1c6f</td>\n",
       "      <td>direct_load</td>\n",
       "      <td>ECOTOX Details</td>\n",
       "      <td>ToxVal00034_bfc2c5b36e8e4418</td>\n",
       "      <td>4</td>\n",
       "    </tr>\n",
       "  </tbody>\n",
       "</table>\n",
       "<p>5 rows × 68 columns</p>\n",
       "</div>"
      ],
      "text/plain": [
       "            dtxsid       casrn                             name  source   \n",
       "0  DTXSID901034504  78565-30-7                   Swascofix P 14  ECOTOX  \\\n",
       "1  DTXSID901034504  78565-30-7                   Swascofix P 14  ECOTOX   \n",
       "2    DTXSID8040858   9034-40-6  Gonadotrophin-releasing hormone  ECOTOX   \n",
       "3    DTXSID8040858   9034-40-6  Gonadotrophin-releasing hormone  ECOTOX   \n",
       "4    DTXSID8040858   9034-40-6  Gonadotrophin-releasing hormone  ECOTOX   \n",
       "\n",
       "  subsource qc_status risk_assessment_class human_eco toxval_type   \n",
       "0   EPA ORD      pass             mortality       eco        LC50  \\\n",
       "1   EPA ORD      pass             mortality       eco        LC50   \n",
       "2   EPA ORD      pass          reproduction       eco        NOEC   \n",
       "3   EPA ORD      pass                 other       eco        LOEC   \n",
       "4   EPA ORD      pass                 other       eco        LOEC   \n",
       "\n",
       "  toxval_type_original  ... document_name toxval_type_category   \n",
       "0                 LC50  ...             -                   LC  \\\n",
       "1                 LC50  ...             -                   LC   \n",
       "2                 NOEC  ...             -                 NOEC   \n",
       "3                 LOEC  ...             -                 LOEC   \n",
       "4                 LOEC  ...             -                 LOEC   \n",
       "\n",
       "                      source_url  subsource_url toxval_id   \n",
       "0  https://cfpub.epa.gov/ecotox/              -    931901  \\\n",
       "1  https://cfpub.epa.gov/ecotox/              -    931902   \n",
       "2  https://cfpub.epa.gov/ecotox/              -    931903   \n",
       "3  https://cfpub.epa.gov/ecotox/              -    931904   \n",
       "4  https://cfpub.epa.gov/ecotox/              -    931905   \n",
       "\n",
       "                        source_hash source_table    details_text   \n",
       "0  852f151c1e61779d8e5dd24c268199ea  direct_load  ECOTOX Details  \\\n",
       "1  550f670d6c1b236c1f4e99688d4e4de4  direct_load  ECOTOX Details   \n",
       "2  e3496ea6bd4567188787338cf048e1a1  direct_load  ECOTOX Details   \n",
       "3  00bc590d6cc842738c49b3c48a337fbe  direct_load  ECOTOX Details   \n",
       "4  1931ecfb04ce80e212115aecb82e1c6f  direct_load  ECOTOX Details   \n",
       "\n",
       "                    chemical_id priority_id  \n",
       "0  ToxVal00034_0bd9881f481b02f8           4  \n",
       "1  ToxVal00034_0bd9881f481b02f8           4  \n",
       "2  ToxVal00034_bfc2c5b36e8e4418           4  \n",
       "3  ToxVal00034_bfc2c5b36e8e4418           4  \n",
       "4  ToxVal00034_bfc2c5b36e8e4418           4  \n",
       "\n",
       "[5 rows x 68 columns]"
      ]
     },
     "execution_count": 11,
     "metadata": {},
     "output_type": "execute_result"
    }
   ],
   "source": [
    "ecotox.head()"
   ]
  },
  {
   "attachments": {},
   "cell_type": "markdown",
   "metadata": {},
   "source": [
    "## Model"
   ]
  },
  {
   "cell_type": "code",
   "execution_count": 25,
   "metadata": {},
   "outputs": [
    {
     "data": {
      "text/plain": [
       "common_name\n",
       "Water Flea                   36812\n",
       "Zebra Danio                  29211\n",
       "Rainbow Trout                26837\n",
       "Green Algae                  21228\n",
       "Fathead Minnow               17701\n",
       "                             ...  \n",
       "Long-Nose Skate                  1\n",
       "Thornback Ray                    1\n",
       "Spotted Barb                     1\n",
       "Golden Agae                      1\n",
       "Short-Horned Fly Suborder        1\n",
       "Name: count, Length: 2352, dtype: int64"
      ]
     },
     "execution_count": 25,
     "metadata": {},
     "output_type": "execute_result"
    }
   ],
   "source": [
    "ecotox[\"common_name\"].value_counts()"
   ]
  },
  {
   "attachments": {},
   "cell_type": "markdown",
   "metadata": {},
   "source": [
    "Majority of these are not mammalian, so we may need to exclude most records, or potentially the entire dataset."
   ]
  },
  {
   "cell_type": "code",
   "execution_count": 26,
   "metadata": {},
   "outputs": [
    {
     "data": {
      "text/plain": [
       "lifestage\n",
       "-                     189356\n",
       "juvenile               32788\n",
       "larva                  32470\n",
       "adult                  30138\n",
       "embryo                 29162\n",
       "                       ...  \n",
       "female gametophyte         3\n",
       "F11 generation             3\n",
       "cocoon                     2\n",
       "lactational                2\n",
       "boot                       2\n",
       "Name: count, Length: 107, dtype: int64"
      ]
     },
     "execution_count": 26,
     "metadata": {},
     "output_type": "execute_result"
    }
   ],
   "source": [
    "ecotox[\"lifestage\"].value_counts()"
   ]
  },
  {
   "cell_type": "markdown",
   "metadata": {},
   "source": [
    "Would make sense to exclude those that are in the larval / egg lifestages."
   ]
  },
  {
   "attachments": {},
   "cell_type": "markdown",
   "metadata": {},
   "source": [
    "# Treatments"
   ]
  },
  {
   "cell_type": "code",
   "execution_count": 16,
   "metadata": {},
   "outputs": [
    {
     "data": {
      "text/plain": [
       "0                                 Swascofix P 14\n",
       "1                                 Swascofix P 14\n",
       "2                Gonadotrophin-releasing hormone\n",
       "3                Gonadotrophin-releasing hormone\n",
       "4                Gonadotrophin-releasing hormone\n",
       "                           ...                  \n",
       "417277    Antimony potassium tartrate trihydrate\n",
       "417278    Antimony potassium tartrate trihydrate\n",
       "417279    Antimony potassium tartrate trihydrate\n",
       "417280    Antimony potassium tartrate trihydrate\n",
       "417281                              Lead nitrate\n",
       "Name: name, Length: 417282, dtype: object"
      ]
     },
     "execution_count": 16,
     "metadata": {},
     "output_type": "execute_result"
    }
   ],
   "source": [
    "ecotox[\"name\"]"
   ]
  },
  {
   "attachments": {},
   "cell_type": "markdown",
   "metadata": {},
   "source": [
    "I can already see that GRH is included in this list, meaning that biologically-relevant comounds are likely to be included in this."
   ]
  },
  {
   "attachments": {},
   "cell_type": "markdown",
   "metadata": {},
   "source": [
    "There are four different chemical identifiers that we can use to identify canonical SMILES:\n",
    "- DTXSID\n",
    "- CASRN\n",
    "- DSSTox name\n",
    "- Primary key in source_chemical table??"
   ]
  },
  {
   "attachments": {},
   "cell_type": "markdown",
   "metadata": {},
   "source": [
    "When I look at these chemicals, it is not immediately clear to me whether they may be relevant or not."
   ]
  },
  {
   "cell_type": "code",
   "execution_count": 61,
   "metadata": {},
   "outputs": [
    {
     "data": {
      "text/plain": [
       "exposure_route\n",
       "aqueous          391961\n",
       "oral               9140\n",
       "injection          6987\n",
       "in vitro           6535\n",
       "environmental      2307\n",
       "tdermal             195\n",
       "multiple            157\n",
       "Name: count, dtype: int64"
      ]
     },
     "execution_count": 61,
     "metadata": {},
     "output_type": "execute_result"
    }
   ],
   "source": [
    "ecotox[\"exposure_route\"].value_counts()"
   ]
  },
  {
   "attachments": {},
   "cell_type": "markdown",
   "metadata": {},
   "source": [
    "Reaffirms how most of this exposure was to fish via placement in water. Not going to be relevant to our dataset."
   ]
  },
  {
   "attachments": {},
   "cell_type": "markdown",
   "metadata": {},
   "source": [
    "# Phenotypes"
   ]
  },
  {
   "cell_type": "code",
   "execution_count": 18,
   "metadata": {},
   "outputs": [
    {
     "data": {
      "text/plain": [
       "toxval_type_supercategory\n",
       "Point of Departure          190980\n",
       "Lethality Effect Level      126211\n",
       "Effect Concentration         51331\n",
       "Effect Level                 15486\n",
       "other                        13345\n",
       "Effect Time                   9529\n",
       "Inhibition Concentration      7056\n",
       "Exposure Limit                2907\n",
       "Effective Residue Level        273\n",
       "Effect Dose                    164\n",
       "Name: count, dtype: int64"
      ]
     },
     "execution_count": 18,
     "metadata": {},
     "output_type": "execute_result"
    }
   ],
   "source": [
    "ecotox[\"toxval_type_supercategory\"].value_counts()"
   ]
  },
  {
   "attachments": {},
   "cell_type": "markdown",
   "metadata": {},
   "source": [
    "Not sure how all of these categories are different from each other. Doesn't seem to add huge amounts of additional useful information"
   ]
  },
  {
   "cell_type": "code",
   "execution_count": 20,
   "metadata": {},
   "outputs": [
    {
     "data": {
      "text/plain": [
       "toxval_type\n",
       "LC50                   110755\n",
       "NOEC                    94903\n",
       "LOEC                    74834\n",
       "EC50                    40838\n",
       "NOEL                    12851\n",
       "                        ...  \n",
       "LT50@ 4.74 AI mgL           1\n",
       "LT50@ 0.0019 AI mgL         1\n",
       "LT50@ 72.1 AI mgL           1\n",
       "LT50@ 0.0394 AI mgL         1\n",
       "LT50@ 11000 AI mgL          1\n",
       "Name: count, Length: 1786, dtype: int64"
      ]
     },
     "execution_count": 20,
     "metadata": {},
     "output_type": "execute_result"
    }
   ],
   "source": [
    "ecotox[\"toxval_type\"].value_counts()"
   ]
  },
  {
   "attachments": {},
   "cell_type": "markdown",
   "metadata": {},
   "source": [
    "It seems like these effect types might be useful, but may be worth dropping all of the non-major categories (e.g. LT50@...)"
   ]
  },
  {
   "cell_type": "code",
   "execution_count": 21,
   "metadata": {},
   "outputs": [
    {
     "data": {
      "text/plain": [
       "study_type\n",
       "mortality            174346\n",
       "population            41389\n",
       "biochemistry          31520\n",
       "neurotoxicity         26754\n",
       "genetics              26075\n",
       "enzymes               21634\n",
       "growth                20942\n",
       "accumulation          16772\n",
       "reproduction          13058\n",
       "physiology            11441\n",
       "developmental         10786\n",
       "in vitro               5647\n",
       "morphology             5584\n",
       "hormone                3844\n",
       "multiple               2196\n",
       "histology              2142\n",
       "unspecified             885\n",
       "immunotoxicity          845\n",
       "avoidance               502\n",
       "Injury                  488\n",
       "ecosystem process       366\n",
       "transcriptomics          66\n",
       "Name: count, dtype: int64"
      ]
     },
     "execution_count": 21,
     "metadata": {},
     "output_type": "execute_result"
    }
   ],
   "source": [
    "ecotox[\"study_type\"].value_counts()"
   ]
  },
  {
   "attachments": {},
   "cell_type": "markdown",
   "metadata": {},
   "source": [
    "None of these categoies seem that irrelevant, apart from maybe unspecified or ecosystem process."
   ]
  },
  {
   "cell_type": "code",
   "execution_count": 22,
   "metadata": {},
   "outputs": [
    {
     "data": {
      "text/plain": [
       "study_duration_class\n",
       "chronic    417282\n",
       "Name: count, dtype: int64"
      ]
     },
     "execution_count": 22,
     "metadata": {},
     "output_type": "execute_result"
    }
   ],
   "source": [
    "ecotox[\"study_duration_class\"].value_counts()"
   ]
  },
  {
   "cell_type": "markdown",
   "metadata": {},
   "source": [
    "Only chronic studies are included in the dataset."
   ]
  },
  {
   "attachments": {},
   "cell_type": "markdown",
   "metadata": {},
   "source": [
    "# Size"
   ]
  },
  {
   "cell_type": "code",
   "execution_count": 47,
   "metadata": {},
   "outputs": [
    {
     "data": {
      "text/plain": [
       "(417282, 68)"
      ]
     },
     "execution_count": 47,
     "metadata": {},
     "output_type": "execute_result"
    }
   ],
   "source": [
    "ecotox.shape"
   ]
  },
  {
   "attachments": {},
   "cell_type": "markdown",
   "metadata": {},
   "source": [
    "This record number differs from source_count table which states there should be 364976 records. Slightly suss.."
   ]
  },
  {
   "cell_type": "markdown",
   "metadata": {},
   "source": [
    "# Quality"
   ]
  },
  {
   "attachments": {},
   "cell_type": "markdown",
   "metadata": {},
   "source": [
    "Each record has a qc status. If the record fails qc, it details why."
   ]
  },
  {
   "cell_type": "code",
   "execution_count": 30,
   "metadata": {},
   "outputs": [
    {
     "data": {
      "text/plain": [
       "qc_status\n",
       "fail:toxval_type not specified     11181\n",
       "fail:toxval_units not specified       14\n",
       "Name: count, dtype: int64"
      ]
     },
     "execution_count": 30,
     "metadata": {},
     "output_type": "execute_result"
    }
   ],
   "source": [
    "ecotox[\"qc_status\"][ecotox[\"qc_status\"] != \"pass\"].value_counts()"
   ]
  },
  {
   "attachments": {},
   "cell_type": "markdown",
   "metadata": {},
   "source": [
    "Would make sense to remove those without toxval_type (e.g. NOAEL)."
   ]
  },
  {
   "cell_type": "code",
   "execution_count": 34,
   "metadata": {},
   "outputs": [
    {
     "data": {
      "text/plain": [
       "Index(['common_name'], dtype='object')"
      ]
     },
     "execution_count": 34,
     "metadata": {},
     "output_type": "execute_result"
    }
   ],
   "source": [
    "ecotox.columns[(ecotox.isna().sum() != 0)]"
   ]
  },
  {
   "attachments": {},
   "cell_type": "markdown",
   "metadata": {},
   "source": [
    "This approach to detecting missingnes is not robust, as there are clearly columns with missing data, but they have a single '-' in them which means they are not being identified as null values."
   ]
  },
  {
   "cell_type": "code",
   "execution_count": 35,
   "metadata": {},
   "outputs": [
    {
     "data": {
      "text/plain": [
       "0         -\n",
       "1         -\n",
       "2         -\n",
       "3         -\n",
       "4         -\n",
       "         ..\n",
       "417277    -\n",
       "417278    -\n",
       "417279    -\n",
       "417280    -\n",
       "417281    -\n",
       "Name: sex, Length: 417282, dtype: object"
      ]
     },
     "execution_count": 35,
     "metadata": {},
     "output_type": "execute_result"
    }
   ],
   "source": [
    "ecotox['sex']"
   ]
  },
  {
   "cell_type": "code",
   "execution_count": 36,
   "metadata": {},
   "outputs": [],
   "source": [
    "ecotox.replace(to_replace='^-$', value=None, regex=True, inplace=True)"
   ]
  },
  {
   "cell_type": "code",
   "execution_count": 46,
   "metadata": {},
   "outputs": [
    {
     "data": {
      "text/plain": [
       "toxval_type                11181\n",
       "toxval_subtype              1503\n",
       "toxval_units                  14\n",
       "toxval_units_original          5\n",
       "study_duration_units          12\n",
       "species_original               5\n",
       "common_name                    5\n",
       "habitat                   417282\n",
       "strain                    417282\n",
       "strain_group              417282\n",
       "strain_original           417282\n",
       "sex                       417282\n",
       "sex_original              417282\n",
       "generation                417282\n",
       "lifestage                 189356\n",
       "exposure_method             4248\n",
       "exposure_form             417282\n",
       "exposure_form_original    417282\n",
       "media                       2383\n",
       "journal                   417282\n",
       "volume                    417282\n",
       "issue                     417282\n",
       "url                       417282\n",
       "document_name             417282\n",
       "toxval_type_category       13345\n",
       "subsource_url             417282\n",
       "dtype: int64"
      ]
     },
     "execution_count": 46,
     "metadata": {},
     "output_type": "execute_result"
    }
   ],
   "source": [
    "ecotox_na = ecotox.isna().sum()\n",
    "\n",
    "ecotox_na[ecotox_na != 0]"
   ]
  },
  {
   "attachments": {},
   "cell_type": "markdown",
   "metadata": {},
   "source": [
    "Doesn't seem to be major amount of missing data for important variables. Probably should exclude those variables with missingness for toxval_type."
   ]
  },
  {
   "cell_type": "markdown",
   "metadata": {},
   "source": [
    "# ECHA IUCLID"
   ]
  },
  {
   "attachments": {},
   "cell_type": "markdown",
   "metadata": {},
   "source": [
    "Data from in vivo studies submitted to ECHA/REACH and accessed through IUCLID dump."
   ]
  },
  {
   "cell_type": "code",
   "execution_count": 53,
   "metadata": {},
   "outputs": [],
   "source": [
    "echa = pd.read_excel(\"/Users/sethhowes/Desktop/FS-Tox/data/raw/toxval_all_res_toxval_v94_ECHA IUCLID.xlsx\")"
   ]
  },
  {
   "attachments": {},
   "cell_type": "markdown",
   "metadata": {},
   "source": [
    "# Model"
   ]
  },
  {
   "cell_type": "code",
   "execution_count": 56,
   "metadata": {},
   "outputs": [
    {
     "data": {
      "text/plain": [
       "common_name\n",
       "Rat                                        126647\n",
       "Rabbit                                      15888\n",
       "Mouse                                       15603\n",
       "Not specified                                3315\n",
       "Dog                                          1896\n",
       "                                            ...  \n",
       "Guinea Pig, Hamster, Mouse, Rabbit, Rat         1\n",
       "Dog, Guinea Pig, Mouse, Rat                     1\n",
       "Frogs                                           1\n",
       "Guniea Pig, Monkey, Rabbit                      1\n",
       "Hydra                                           1\n",
       "Name: count, Length: 98, dtype: int64"
      ]
     },
     "execution_count": 56,
     "metadata": {},
     "output_type": "execute_result"
    }
   ],
   "source": [
    "echa[\"common_name\"].value_counts()"
   ]
  },
  {
   "cell_type": "markdown",
   "metadata": {},
   "source": [
    "Seems to be a much more appropriate set of animal models"
   ]
  },
  {
   "attachments": {},
   "cell_type": "markdown",
   "metadata": {},
   "source": [
    "# Treatment"
   ]
  },
  {
   "cell_type": "code",
   "execution_count": 57,
   "metadata": {},
   "outputs": [
    {
     "data": {
      "text/plain": [
       "0                                            Dibromomethane\n",
       "1         Tall-oil fatty acids oligomeric reaction produ...\n",
       "2                                Tetrabutylammonium bromide\n",
       "3                                Di(2-ethylhexyl) phthalate\n",
       "4                                     Manganese sesquioxide\n",
       "                                ...                        \n",
       "167660                              Manganese sulfate (1:1)\n",
       "167661                              Manganese sulfate (1:1)\n",
       "167662                              Manganese sulfate (1:1)\n",
       "167663                              Manganese sulfate (1:1)\n",
       "167664                              Manganese sulfate (1:1)\n",
       "Name: name, Length: 167665, dtype: object"
      ]
     },
     "execution_count": 57,
     "metadata": {},
     "output_type": "execute_result"
    }
   ],
   "source": [
    "echa[\"name\"]"
   ]
  },
  {
   "attachments": {},
   "cell_type": "markdown",
   "metadata": {},
   "source": [
    "Again I'm unsure of the approach to use here to try and identify chemicals here that are relevant by name only."
   ]
  },
  {
   "cell_type": "code",
   "execution_count": 60,
   "metadata": {},
   "outputs": [
    {
     "data": {
      "text/plain": [
       "exposure_route\n",
       "oral          85478\n",
       "inhalation    32359\n",
       "dermal        26457\n",
       "-             23371\n",
       "Name: count, dtype: int64"
      ]
     },
     "execution_count": 60,
     "metadata": {},
     "output_type": "execute_result"
    }
   ],
   "source": [
    "echa[\"exposure_route\"].value_counts()"
   ]
  },
  {
   "attachments": {},
   "cell_type": "markdown",
   "metadata": {},
   "source": [
    "Much more appropriate set of exposure routes here."
   ]
  },
  {
   "attachments": {},
   "cell_type": "markdown",
   "metadata": {},
   "source": [
    "# Phenotype"
   ]
  },
  {
   "cell_type": "code",
   "execution_count": 62,
   "metadata": {},
   "outputs": [
    {
     "data": {
      "text/plain": [
       "toxval_type_supercategory\n",
       "Point of Departure          83141\n",
       "Lethality Effect Level      78714\n",
       "other                        5486\n",
       "Effect Time                   140\n",
       "Inhibition Concentration       69\n",
       "Effect Concentration           58\n",
       "Exposure Limit                 39\n",
       "Effect Dose                    16\n",
       "Toxicity Value                  2\n",
       "Name: count, dtype: int64"
      ]
     },
     "execution_count": 62,
     "metadata": {},
     "output_type": "execute_result"
    }
   ],
   "source": [
    "echa[\"toxval_type_supercategory\"].value_counts()"
   ]
  },
  {
   "cell_type": "markdown",
   "metadata": {},
   "source": [
    "A similar set of categories to ECOTOX."
   ]
  },
  {
   "cell_type": "code",
   "execution_count": 65,
   "metadata": {},
   "outputs": [
    {
     "data": {
      "text/plain": [
       "toxval_type_category\n",
       "LD                                 64088\n",
       "NOAEL                              45877\n",
       "LC                                 14515\n",
       "NOEL                               10712\n",
       "NOAEC                               9917\n",
       "LOAEL                               9192\n",
       "-                                   4893\n",
       "LOAEC                               3075\n",
       "LEL                                 1151\n",
       "LOEL                                1064\n",
       "NOEC                                 915\n",
       "LEC                                  500\n",
       "discriminating dose                  474\n",
       "LOEC                                 342\n",
       "BMC                                  281\n",
       "LT                                   140\n",
       "BMD                                   90\n",
       "TD                                    87\n",
       "IC                                    67\n",
       "RD                                    60\n",
       "EC                                    58\n",
       "IHT                                   40\n",
       "MTD                                   28\n",
       "NEL                                   19\n",
       "ED                                    16\n",
       "TC                                    14\n",
       "TD50                                   8\n",
       "NOTEL                                  4\n",
       "IRT                                    4\n",
       "HDT                                    4\n",
       "TWA                                    4\n",
       "MT0                                    3\n",
       "ID                                     2\n",
       "MLD                                    2\n",
       "STEL                                   2\n",
       "TDI                                    2\n",
       "RfD                                    2\n",
       "NEC                                    2\n",
       "MATC                                   1\n",
       "adult MEC (A); 'embryo' MEC (D)        1\n",
       "ITD                                    1\n",
       "Threshold Quantity                     1\n",
       "tolerable concentration in air         1\n",
       "MAC                                    1\n",
       "LTF                                    1\n",
       "ALAD                                   1\n",
       "NTD                                    1\n",
       "HD                                     1\n",
       "STI                                    1\n",
       "Name: count, dtype: int64"
      ]
     },
     "execution_count": 65,
     "metadata": {},
     "output_type": "execute_result"
    }
   ],
   "source": [
    "echa[\"toxval_type_category\"].value_counts()"
   ]
  },
  {
   "attachments": {},
   "cell_type": "markdown",
   "metadata": {},
   "source": [
    "Lots of different lower level categories."
   ]
  },
  {
   "cell_type": "markdown",
   "metadata": {},
   "source": [
    "# Size"
   ]
  },
  {
   "cell_type": "code",
   "execution_count": 66,
   "metadata": {},
   "outputs": [
    {
     "data": {
      "text/plain": [
       "(167665, 68)"
      ]
     },
     "execution_count": 66,
     "metadata": {},
     "output_type": "execute_result"
    }
   ],
   "source": [
    "echa.shape"
   ]
  },
  {
   "cell_type": "markdown",
   "metadata": {},
   "source": [
    "# Quality"
   ]
  },
  {
   "cell_type": "code",
   "execution_count": 67,
   "metadata": {},
   "outputs": [
    {
     "data": {
      "text/plain": [
       "qc_status\n",
       "fail:dtxsid not specified          15525\n",
       "fail:toxval_units not specified     5992\n",
       "fail:toxval_type not specified      3346\n",
       "fail:human_eco not specified        3316\n",
       "fail:toxval_numeric<0                 23\n",
       "Name: count, dtype: int64"
      ]
     },
     "execution_count": 67,
     "metadata": {},
     "output_type": "execute_result"
    }
   ],
   "source": [
    "echa[\"qc_status\"][echa[\"qc_status\"] != \"pass\"].value_counts()"
   ]
  },
  {
   "attachments": {},
   "cell_type": "markdown",
   "metadata": {},
   "source": [
    "A wider range of qc exclusion criteria, all of which seem fair."
   ]
  },
  {
   "cell_type": "code",
   "execution_count": 69,
   "metadata": {},
   "outputs": [],
   "source": [
    "echa.replace(to_replace='^-$', value=None, regex=True, inplace=True)"
   ]
  },
  {
   "cell_type": "code",
   "execution_count": 70,
   "metadata": {},
   "outputs": [
    {
     "data": {
      "text/plain": [
       "casrn                             14843\n",
       "toxval_type                        4823\n",
       "toxval_type_original               3698\n",
       "toxval_subtype                   167665\n",
       "toxval_units                       6874\n",
       "toxval_units_original              6841\n",
       "study_duration_class             167665\n",
       "study_duration_class_original    167665\n",
       "study_duration_value_original     64135\n",
       "study_duration_units              65615\n",
       "study_duration_units_original     64174\n",
       "species_original                   3253\n",
       "ecotox_group                          1\n",
       "habitat                          167665\n",
       "strain                            28533\n",
       "strain_group                      28944\n",
       "strain_original                   28533\n",
       "sex                               21662\n",
       "sex_original                       9275\n",
       "generation                       167665\n",
       "lifestage                        167665\n",
       "exposure_route                    23371\n",
       "exposure_route_original           23371\n",
       "exposure_method                   49929\n",
       "exposure_method_original          42296\n",
       "exposure_form                    167665\n",
       "exposure_form_original           167665\n",
       "media                            167665\n",
       "media_original                   167665\n",
       "critical_effect                  121440\n",
       "critical_effect_original          83162\n",
       "year                             123847\n",
       "title                            167665\n",
       "author                           167665\n",
       "journal                          167665\n",
       "volume                           167665\n",
       "year.1                           123847\n",
       "issue                            167665\n",
       "url                                1627\n",
       "document_name                    167665\n",
       "toxval_type_category               4893\n",
       "subsource_url                    167665\n",
       "dtype: int64"
      ]
     },
     "execution_count": 70,
     "metadata": {},
     "output_type": "execute_result"
    }
   ],
   "source": [
    "echa_na = echa.isna().sum()\n",
    "\n",
    "echa_na[echa_na != 0]"
   ]
  },
  {
   "cell_type": "markdown",
   "metadata": {},
   "source": [
    "Much greater degree of missingness here for relevant variables."
   ]
  },
  {
   "attachments": {},
   "cell_type": "markdown",
   "metadata": {},
   "source": [
    "# Thoughts on selecting datasets"
   ]
  },
  {
   "attachments": {},
   "cell_type": "markdown",
   "metadata": {},
   "source": [
    "I think it's clear from the approach above that taking a non-systematic approach is not a scientifically robust way to approach the curation process. It will likely lead to innapropriate inclusion / exclusion of data. Here are some suggestions on how we can systematically select data:\n",
    "\n",
    "- Models\n",
    "    - Create whitelist of model organisms, then require that a dataset contain above a given threshold of whitelisted species\n",
    "    - Create whitelist of model organisms then only include those records from a dataset with these animals\n",
    "    - Take either of the approaches above but whitelist high level species name (ecotox_group)\n",
    "- Treatments\n",
    "    - Convert each of the 3 different representations (CASRN, DSSTOXSID) to canonical SMILES / InChI\n",
    "    - Search chemical databases to determine whether there is a history of these drugs being studied for medical purposes (e.g. they have an entry in the pharmacology section of PubChem)\n",
    "    - Exclude those records that were specified as for ecological study instead of human\n",
    "- Phenotypes\n",
    "    - Create whitelist of administration routes and include only those records with whitelisted administration routes\n",
    "    - Exclude in vitro data for 'risk_assessment_class'\n",
    "    - Unsure which variables to select / exclude here\n",
    "- Size\n",
    "    - Unsure of relevance of this to data selection\n",
    "- Quality integrity\n",
    "    - There is an associated quality score (1-5) attached to each dataset. I don't recommend using this as it is not clear how this score is defined\n",
    "    - Remove missing records for core variables\n",
    "    - Exclude those variables failing ToxVal's QC criteria. They seem fair\n",
    "    \n",
    "    \n",
    "\n",
    "    "
   ]
  }
 ],
 "metadata": {
  "kernelspec": {
   "display_name": "env",
   "language": "python",
   "name": "python3"
  },
  "language_info": {
   "codemirror_mode": {
    "name": "ipython",
    "version": 3
   },
   "file_extension": ".py",
   "mimetype": "text/x-python",
   "name": "python",
   "nbconvert_exporter": "python",
   "pygments_lexer": "ipython3",
   "version": "3.11.2"
  },
  "orig_nbformat": 4
 },
 "nbformat": 4,
 "nbformat_minor": 2
}
