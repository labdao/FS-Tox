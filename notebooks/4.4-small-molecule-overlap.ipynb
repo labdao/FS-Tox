{
 "cells": [
  {
   "cell_type": "markdown",
   "id": "c9303632",
   "metadata": {},
   "source": [
    "# Exploring small molecule overlap\n",
    "I need to establish to what degree there is overlap between small molecules in the train and test datasets for meta-train and meta-test datasets."
   ]
  },
  {
   "cell_type": "code",
   "execution_count": null,
   "id": "526bebd3",
   "metadata": {},
   "outputs": [],
   "source": []
  }
 ],
 "metadata": {
  "kernelspec": {
   "display_name": "fs-tox",
   "language": "python",
   "name": "fs-tox"
  },
  "language_info": {
   "codemirror_mode": {
    "name": "ipython",
    "version": 3
   },
   "file_extension": ".py",
   "mimetype": "text/x-python",
   "name": "python",
   "nbconvert_exporter": "python",
   "pygments_lexer": "ipython3",
   "version": "3.11.3"
  }
 },
 "nbformat": 4,
 "nbformat_minor": 5
}
