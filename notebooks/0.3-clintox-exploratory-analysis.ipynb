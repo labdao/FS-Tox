{
 "cells": [
  {
   "cell_type": "markdown",
   "id": "3f32f7da",
   "metadata": {},
   "source": [
    "# ClinTox exploratory analysis"
   ]
  },
  {
   "cell_type": "code",
   "execution_count": 1,
   "id": "07138fd5",
   "metadata": {},
   "outputs": [],
   "source": [
    "import pandas as pd"
   ]
  },
  {
   "cell_type": "code",
   "execution_count": 2,
   "id": "22b6314e",
   "metadata": {},
   "outputs": [],
   "source": [
    "df = pd.read_csv(\"../data/external/clintox.csv\")"
   ]
  },
  {
   "cell_type": "code",
   "execution_count": 3,
   "id": "0772d478",
   "metadata": {},
   "outputs": [
    {
     "data": {
      "text/plain": [
       "(1484, 3)"
      ]
     },
     "execution_count": 3,
     "metadata": {},
     "output_type": "execute_result"
    }
   ],
   "source": [
    "df.shape"
   ]
  },
  {
   "cell_type": "code",
   "execution_count": 4,
   "id": "2dc8f6ad",
   "metadata": {},
   "outputs": [
    {
     "data": {
      "text/html": [
       "<div>\n",
       "<style scoped>\n",
       "    .dataframe tbody tr th:only-of-type {\n",
       "        vertical-align: middle;\n",
       "    }\n",
       "\n",
       "    .dataframe tbody tr th {\n",
       "        vertical-align: top;\n",
       "    }\n",
       "\n",
       "    .dataframe thead th {\n",
       "        text-align: right;\n",
       "    }\n",
       "</style>\n",
       "<table border=\"1\" class=\"dataframe\">\n",
       "  <thead>\n",
       "    <tr style=\"text-align: right;\">\n",
       "      <th></th>\n",
       "      <th>smiles</th>\n",
       "      <th>FDA_APPROVED</th>\n",
       "      <th>CT_TOX</th>\n",
       "    </tr>\n",
       "  </thead>\n",
       "  <tbody>\n",
       "    <tr>\n",
       "      <th>0</th>\n",
       "      <td>*C(=O)[C@H](CCCCNC(=O)OCCOC)NC(=O)OCCOC</td>\n",
       "      <td>1</td>\n",
       "      <td>0</td>\n",
       "    </tr>\n",
       "    <tr>\n",
       "      <th>1</th>\n",
       "      <td>[C@@H]1([C@@H]([C@@H]([C@H]([C@@H]([C@@H]1Cl)C...</td>\n",
       "      <td>1</td>\n",
       "      <td>0</td>\n",
       "    </tr>\n",
       "    <tr>\n",
       "      <th>2</th>\n",
       "      <td>[C@H]([C@@H]([C@@H](C(=O)[O-])O)O)([C@H](C(=O)...</td>\n",
       "      <td>1</td>\n",
       "      <td>0</td>\n",
       "    </tr>\n",
       "    <tr>\n",
       "      <th>3</th>\n",
       "      <td>[H]/[NH+]=C(/C1=CC(=O)/C(=C\\C=c2ccc(=C([NH3+])...</td>\n",
       "      <td>1</td>\n",
       "      <td>0</td>\n",
       "    </tr>\n",
       "    <tr>\n",
       "      <th>4</th>\n",
       "      <td>[H]/[NH+]=C(\\N)/c1ccc(cc1)OCCCCCOc2ccc(cc2)/C(...</td>\n",
       "      <td>1</td>\n",
       "      <td>0</td>\n",
       "    </tr>\n",
       "  </tbody>\n",
       "</table>\n",
       "</div>"
      ],
      "text/plain": [
       "                                              smiles  FDA_APPROVED  CT_TOX\n",
       "0            *C(=O)[C@H](CCCCNC(=O)OCCOC)NC(=O)OCCOC             1       0\n",
       "1  [C@@H]1([C@@H]([C@@H]([C@H]([C@@H]([C@@H]1Cl)C...             1       0\n",
       "2  [C@H]([C@@H]([C@@H](C(=O)[O-])O)O)([C@H](C(=O)...             1       0\n",
       "3  [H]/[NH+]=C(/C1=CC(=O)/C(=C\\C=c2ccc(=C([NH3+])...             1       0\n",
       "4  [H]/[NH+]=C(\\N)/c1ccc(cc1)OCCCCCOc2ccc(cc2)/C(...             1       0"
      ]
     },
     "execution_count": 4,
     "metadata": {},
     "output_type": "execute_result"
    }
   ],
   "source": [
    "df.head()"
   ]
  },
  {
   "cell_type": "markdown",
   "id": "80fd3959",
   "metadata": {},
   "source": [
    "Just two outcomes:\n",
    "* FDA_APPROVED - did the drug get approved during clinical trials\n",
    "* CT_TOX - was the drug judged to be toxic in clinical trials"
   ]
  },
  {
   "cell_type": "markdown",
   "id": "159ac420",
   "metadata": {},
   "source": [
    "## Missingness"
   ]
  },
  {
   "cell_type": "code",
   "execution_count": 5,
   "id": "2af7ded3",
   "metadata": {},
   "outputs": [
    {
     "name": "stdout",
     "output_type": "stream",
     "text": [
      "Median: 0.0\n",
      "Interquartile range: 0.0\n"
     ]
    }
   ],
   "source": [
    "# Calculate missingness for each variable\n",
    "df_dropped = df.drop([\"smiles\"], axis=1)\n",
    "row_missing = df_dropped.isna().sum() / df.shape[0]\n",
    "\n",
    "# Get missingness summary statistics\n",
    "median = row_missing.median()\n",
    "Q1 = row_missing.quantile(0.25)\n",
    "Q3 = row_missing.quantile(0.75)\n",
    "IQR = Q3 - Q1\n",
    "print(f'Median: {median}')\n",
    "print(f'Interquartile range: {IQR}')"
   ]
  },
  {
   "cell_type": "markdown",
   "id": "a04ddb68",
   "metadata": {},
   "source": [
    "No missingness in the dataset."
   ]
  },
  {
   "cell_type": "markdown",
   "id": "212b35b2",
   "metadata": {},
   "source": [
    "## Pairs of outcomes"
   ]
  },
  {
   "cell_type": "markdown",
   "id": "03cf972c",
   "metadata": {},
   "source": [
    "Are there variables where the drug was approved but was also judged to be toxic?"
   ]
  },
  {
   "cell_type": "code",
   "execution_count": 8,
   "id": "a2be77f2",
   "metadata": {},
   "outputs": [
    {
     "name": "stdout",
     "output_type": "stream",
     "text": [
      "   FDA_APPROVED  CT_TOX  count\n",
      "0             0       1     94\n",
      "1             1       0   1372\n",
      "2             1       1     18\n"
     ]
    }
   ],
   "source": [
    "# Get unique pair counts\n",
    "pair_counts = df.groupby(['FDA_APPROVED', 'CT_TOX']).size().reset_index(name='count')\n",
    "\n",
    "print(pair_counts)"
   ]
  },
  {
   "cell_type": "markdown",
   "id": "8f27b90d",
   "metadata": {},
   "source": [
    "I want to check which drugs were approved and toxic."
   ]
  },
  {
   "cell_type": "code",
   "execution_count": 9,
   "id": "96ccde23",
   "metadata": {},
   "outputs": [
    {
     "name": "stdout",
     "output_type": "stream",
     "text": [
      "                                                 smiles  FDA_APPROVED  CT_TOX\n",
      "178        C1=CC(=CC=C1C#N)C(C2=CC=C(C=C2)C#N)N3C=NC=N3             1       1\n",
      "303                    C1=CC=C(C=C1)NC(=O)CCCCCCC(=O)NO             1       1\n",
      "346   C1=CN(C(=O)N=C1N)[C@H]2[C@H]([C@@H]([C@H](O2)C...             1       1\n",
      "347   C1=CN(C(=O)N=C1N)[C@H]2C([C@@H]([C@H](O2)CO)O)...             1       1\n",
      "355                           C1CN(P(=O)(OC1)NCCCl)CCCl             1       1\n",
      "364                           C1CNP(=O)(OC1)N(CCCl)CCCl             1       1\n",
      "425   C[C@@H]1C[C@H]2[C@@H]3CCC4=CC(=O)C=C[C@@]4([C@...             1       1\n",
      "454   C[C@]12C[C@@H]([C@H]3[C@H]([C@@H]1CC[C@@]2(C(=...             1       1\n",
      "456   C[C@]12CC(=O)[C@H]3[C@H]([C@@H]1CC[C@@]2(C(=O)...             1       1\n",
      "484   C[C@]12CCC(=O)C=C1CC[C@@H]3[C@@H]2[C@H](C[C@]4...             1       1\n",
      "670   CC(C)(C)[C@@H](C(=O)N[C@@H](CC1=CC=CC=C1)[C@H]...             1       1\n",
      "683   CC(C)(C)C(=O)OCOP(=O)(COCCN1C=NC2=C1N=CN=C2N)O...             1       1\n",
      "953   CC1=C2[C@H](C(=O)[C@@]3([C@H](C[C@@H]4[C@]([C@...             1       1\n",
      "954   CC1=C2[C@H](C(=O)[C@@]3([C@H](C[C@@H]4[C@]([C@...             1       1\n",
      "998   CC1=CC=C(C=C1)C2=CC(=NN2C3=CC=C(C=C3)S(=O)(=O)...             1       1\n",
      "1069  CC[C@H](C)C(=O)O[C@H]1C[C@H](C=C2[C@H]1[C@H]([...             1       1\n",
      "1071  CC[C@H]1C(=O)N(CC(=O)N([C@H](C(=O)N[C@H](C(=O)...             1       1\n",
      "1388                      CN1C(=O)N2C=NC(=C2N=N1)C(=O)N             1       1\n"
     ]
    }
   ],
   "source": [
    "# Return drugs both toxic and approved\n",
    "approved_toxic = df[(df['FDA_APPROVED'] == 1) & (df['CT_TOX'] == 1)]\n",
    "\n",
    "print(approved_toxic)"
   ]
  },
  {
   "cell_type": "markdown",
   "id": "706b290a",
   "metadata": {},
   "source": [
    "e.g. C1=CC(=CC=C1C#N)C(C2=CC=C(C=C2)C#N)N3C=NC=N3 is Letrozole, which is a chemotherapeutic indicated for breast cancer."
   ]
  }
 ],
 "metadata": {
  "kernelspec": {
   "display_name": "fs-tox",
   "language": "python",
   "name": "fs-tox"
  },
  "language_info": {
   "codemirror_mode": {
    "name": "ipython",
    "version": 3
   },
   "file_extension": ".py",
   "mimetype": "text/x-python",
   "name": "python",
   "nbconvert_exporter": "python",
   "pygments_lexer": "ipython3",
   "version": "3.11.3"
  }
 },
 "nbformat": 4,
 "nbformat_minor": 5
}
