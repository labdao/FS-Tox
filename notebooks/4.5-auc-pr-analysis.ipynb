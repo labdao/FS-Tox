{
 "cells": [
  {
   "cell_type": "markdown",
   "id": "0a81c756",
   "metadata": {},
   "source": [
    "# Why are delta-AUC-PR scores so different across datasets?\n",
    "The output of the notebook 4.3 shows that there is vastly different performance for our pipeline depending upon which dataset is being used. Prism results in delta-AUC-PR scores that are marginally better than chance. However, the delta-AUC-PR scores are significantly better for toxvaldb (0.2-0.3). What is the reason for this vastly different performance aross support set sizes?\n",
    "\n",
    "I will start by exploring some of the following questions:\n",
    "- Are there some types of assays (e.g. aquatic predictions) for which toxvaldb has significantly better classification performance?\n",
    "- Do different median active ratios across the datasets explain this difference?"
   ]
  },
  {
   "cell_type": "code",
   "execution_count": 1,
   "id": "af9d8126",
   "metadata": {},
   "outputs": [],
   "source": [
    "import os\n",
    "\n",
    "import pandas as pd\n",
    "import matplotlib.pyplot as plt\n",
    "import duckdb"
   ]
  },
  {
   "cell_type": "code",
   "execution_count": null,
   "id": "51c09154",
   "metadata": {},
   "outputs": [],
   "source": [
    "def get_run_info(filepath):\n",
    "\n",
    "    # Split the string at each slash to isolate each part of the path\n",
    "    parts = filepath.split(\"/\")\n",
    "\n",
    "    # The target part is the one that contains 'params.dataset' and 'params.support_set_size'\n",
    "    target = [part for part in parts if \"params.dataset\" in part and \"params.support_set_size\" in part][0]\n",
    "\n",
    "    # Split the target part at each comma\n",
    "    params = target.split(\",\")\n",
    "\n",
    "    # Split each parameter at the equals sign and take the second part\n",
    "    dataset = params[0].split(\"=\")[1]\n",
    "    support_set_size = int(params[1].split(\"=\")[1])  # convert \n",
    "    to int for numerical operations\n",
    "\n",
    "    return {\"dataset\": dataset, \"support_set_size\": support_set_size}\n",
    "\n",
    "\n",
    "def rename_filename_to_assay_id(filename):\n",
    "    # Get basename without file extension from filename\n",
    "    base_name = os.path.basename(filename)\n",
    "    name_without_extension = os.path.splitext(base_name)[0]\n",
    "    return name_without_extension"
   ]
  },
  {
   "cell_type": "markdown",
   "id": "9e40a700",
   "metadata": {},
   "source": [
    "## Assay makeup"
   ]
  },
  {
   "cell_type": "markdown",
   "id": "eec098c9",
   "metadata": {},
   "source": [
    "I'll start by loading in the evaluation data for each dataset."
   ]
  },
  {
   "cell_type": "code",
   "execution_count": 3,
   "id": "2c91327f",
   "metadata": {},
   "outputs": [],
   "source": [
    "RUN_DIR = \"/Users/sethhowes/Desktop/FS-Tox/multirun/2023-07-20/15-53-19\"\n",
    "run_dirs = [f\"{RUN_DIR}/{config}\" for config in os.listdir(RUN_DIR) if config != \"multirun.yaml\"]\n",
    "run_dirs = [f\"{run_dir}/data/processed/score/*.parquet\" for run_dir in run_dirs]\n",
    "\n",
    "support_sizes = [8, 16, 32, 64]\n",
    "datasets = [\"toxcast\", \"toxval\", \"nci60\", \"cancerrx\", \"prism\"]\n",
    "\n",
    "con = duckdb.connect()\n",
    "\n",
    "dfs = []\n",
    "\n",
    "for run_dir in run_dirs:\n",
    "    info = get_run_info(run_dir)\n",
    "    query = f\"\"\"\n",
    "    SELECT delta_auc_pr, filename AS assay_id\n",
    "    FROM read_parquet('{run_dir}', filename=true)\n",
    "    \"\"\"\n",
    "    try:\n",
    "        df = con.execute(query).df()\n",
    "        df[\"support_set_size\"] = info[\"support_set_size\"]\n",
    "        df[\"dataset\"] = info[\"dataset\"]\n",
    "        dfs.append(df)\n",
    "    except Exception as e:\n",
    "        print(f\"No data for {info['dataset']} with support set size of {info['support_set_size']}\")\n",
    "\n",
    "\n",
    "# Concatenate all dataframes into one\n",
    "df = pd.concat(dfs, ignore_index=True)\n",
    "\n",
    "# Change assay id column so that filename is converted to assay id\n",
    "df[\"assay_id\"] = df[\"assay_id\"].apply(rename_filename_to_assay_id)"
   ]
  },
  {
   "cell_type": "code",
   "execution_count": 4,
   "id": "af083725",
   "metadata": {},
   "outputs": [
    {
     "data": {
      "text/html": [
       "<div>\n",
       "<style scoped>\n",
       "    .dataframe tbody tr th:only-of-type {\n",
       "        vertical-align: middle;\n",
       "    }\n",
       "\n",
       "    .dataframe tbody tr th {\n",
       "        vertical-align: top;\n",
       "    }\n",
       "\n",
       "    .dataframe thead th {\n",
       "        text-align: right;\n",
       "    }\n",
       "</style>\n",
       "<table border=\"1\" class=\"dataframe\">\n",
       "  <thead>\n",
       "    <tr style=\"text-align: right;\">\n",
       "      <th></th>\n",
       "      <th>delta_auc_pr</th>\n",
       "      <th>assay_id</th>\n",
       "      <th>support_set_size</th>\n",
       "      <th>dataset</th>\n",
       "    </tr>\n",
       "  </thead>\n",
       "  <tbody>\n",
       "    <tr>\n",
       "      <th>0</th>\n",
       "      <td>0.214189</td>\n",
       "      <td>dc81033bf0ce9cb</td>\n",
       "      <td>32</td>\n",
       "      <td>toxcast</td>\n",
       "    </tr>\n",
       "    <tr>\n",
       "      <th>1</th>\n",
       "      <td>0.078312</td>\n",
       "      <td>9d741d12f26e3a2</td>\n",
       "      <td>32</td>\n",
       "      <td>toxcast</td>\n",
       "    </tr>\n",
       "    <tr>\n",
       "      <th>2</th>\n",
       "      <td>0.207396</td>\n",
       "      <td>2da3a1f2bb38e61</td>\n",
       "      <td>32</td>\n",
       "      <td>toxcast</td>\n",
       "    </tr>\n",
       "    <tr>\n",
       "      <th>3</th>\n",
       "      <td>0.072056</td>\n",
       "      <td>663edce479311b3</td>\n",
       "      <td>32</td>\n",
       "      <td>toxcast</td>\n",
       "    </tr>\n",
       "    <tr>\n",
       "      <th>4</th>\n",
       "      <td>0.114713</td>\n",
       "      <td>0660b7e9e225700</td>\n",
       "      <td>32</td>\n",
       "      <td>toxcast</td>\n",
       "    </tr>\n",
       "  </tbody>\n",
       "</table>\n",
       "</div>"
      ],
      "text/plain": [
       "   delta_auc_pr         assay_id  support_set_size  dataset\n",
       "0      0.214189  dc81033bf0ce9cb                32  toxcast\n",
       "1      0.078312  9d741d12f26e3a2                32  toxcast\n",
       "2      0.207396  2da3a1f2bb38e61                32  toxcast\n",
       "3      0.072056  663edce479311b3                32  toxcast\n",
       "4      0.114713  0660b7e9e225700                32  toxcast"
      ]
     },
     "execution_count": 4,
     "metadata": {},
     "output_type": "execute_result"
    }
   ],
   "source": [
    "df.head()"
   ]
  },
  {
   "cell_type": "markdown",
   "id": "c69d05bc",
   "metadata": {},
   "source": [
    "## Assay breakdown\n",
    "I will now see what the different components are for the toxvaldb assays. I want to see whether there are certain assay components (e.g. oral vs. aqueous delivery) that results in different predictive performance."
   ]
  },
  {
   "cell_type": "code",
   "execution_count": 5,
   "id": "107bcac0",
   "metadata": {},
   "outputs": [],
   "source": [
    "toxval = df[df[\"dataset\"] == \"toxval\"]\n",
    "toxval_32 = df[df[\"support_set_size\"] == 32]"
   ]
  },
  {
   "cell_type": "code",
   "execution_count": 6,
   "id": "c63220bc",
   "metadata": {},
   "outputs": [],
   "source": [
    "toxval_components = pd.read_parquet(f\"{RUN_DIR}/params.dataset=toxval,params.support_set_size=32/data/processed/assay_id/toxval.parquet\")"
   ]
  },
  {
   "cell_type": "code",
   "execution_count": 7,
   "id": "af0c53f6",
   "metadata": {},
   "outputs": [
    {
     "data": {
      "text/html": [
       "<div>\n",
       "<style scoped>\n",
       "    .dataframe tbody tr th:only-of-type {\n",
       "        vertical-align: middle;\n",
       "    }\n",
       "\n",
       "    .dataframe tbody tr th {\n",
       "        vertical-align: top;\n",
       "    }\n",
       "\n",
       "    .dataframe thead th {\n",
       "        text-align: right;\n",
       "    }\n",
       "</style>\n",
       "<table border=\"1\" class=\"dataframe\">\n",
       "  <thead>\n",
       "    <tr style=\"text-align: right;\">\n",
       "      <th></th>\n",
       "      <th>delta_auc_pr</th>\n",
       "      <th>assay_id</th>\n",
       "      <th>support_set_size</th>\n",
       "      <th>dataset</th>\n",
       "      <th>assay_name</th>\n",
       "    </tr>\n",
       "  </thead>\n",
       "  <tbody>\n",
       "    <tr>\n",
       "      <th>6</th>\n",
       "      <td>0.310458</td>\n",
       "      <td>3750021a43179d9</td>\n",
       "      <td>64</td>\n",
       "      <td>toxval</td>\n",
       "      <td>Environmental Fate and Effects Division, U.S.EPA, Washington, D.C.: U.S. Environmental Protection Agency Pesticide Ecotoxicity Database (Formerly: Environmental Effects Database (EEDB)) 1992_EC50_Water Flea_aqueous_mg/m3_neurotoxicity_ECOTOX</td>\n",
       "    </tr>\n",
       "    <tr>\n",
       "      <th>0</th>\n",
       "      <td>0.289894</td>\n",
       "      <td>9e409008c12c454</td>\n",
       "      <td>64</td>\n",
       "      <td>toxval</td>\n",
       "      <td>Environmental Fate and Effects Division, U.S.EPA, Washington, D.C.: U.S. Environmental Protection Agency Pesticide Ecotoxicity Database (Formerly: Environmental Effects Database (EEDB)) 1992_LC50_Sheepshead Minnow_aqueous_mg/m3_mortality_ECOTOX</td>\n",
       "    </tr>\n",
       "    <tr>\n",
       "      <th>21</th>\n",
       "      <td>0.289754</td>\n",
       "      <td>fbf18f4352e1c05</td>\n",
       "      <td>64</td>\n",
       "      <td>toxval</td>\n",
       "      <td>Environmental Fate and Effects Division, U.S.EPA, Washington, D.C.: U.S. Environmental Protection Agency Pesticide Ecotoxicity Database (Formerly: Environmental Effects Database (EEDB)) 1992_NOEL_Bluegill_aqueous_mg/m3_mortality_ECOTOX</td>\n",
       "    </tr>\n",
       "    <tr>\n",
       "      <th>9</th>\n",
       "      <td>0.281419</td>\n",
       "      <td>83f8eb37368cb38</td>\n",
       "      <td>64</td>\n",
       "      <td>toxval</td>\n",
       "      <td>Environmental Fate and Effects Division, U.S.EPA, Washington, D.C.: U.S. Environmental Protection Agency Pesticide Ecotoxicity Database (Formerly: Environmental Effects Database (EEDB)) 1992_NOEL_Water Flea_aqueous_mg/m3_neurotoxicity_ECOTOX</td>\n",
       "    </tr>\n",
       "    <tr>\n",
       "      <th>18</th>\n",
       "      <td>0.265265</td>\n",
       "      <td>0384960b45bc7c3</td>\n",
       "      <td>64</td>\n",
       "      <td>toxval</td>\n",
       "      <td>Environmental Fate and Effects Division, U.S.EPA, Washington, D.C.: U.S. Environmental Protection Agency Pesticide Ecotoxicity Database (Formerly: Environmental Effects Database (EEDB)) 1992_NOEL_Rainbow Trout_aqueous_mg/m3_mortality_ECOTOX</td>\n",
       "    </tr>\n",
       "    <tr>\n",
       "      <th>2</th>\n",
       "      <td>0.247231</td>\n",
       "      <td>9e409008c12c454</td>\n",
       "      <td>32</td>\n",
       "      <td>toxval</td>\n",
       "      <td>Environmental Fate and Effects Division, U.S.EPA, Washington, D.C.: U.S. Environmental Protection Agency Pesticide Ecotoxicity Database (Formerly: Environmental Effects Database (EEDB)) 1992_LC50_Sheepshead Minnow_aqueous_mg/m3_mortality_ECOTOX</td>\n",
       "    </tr>\n",
       "    <tr>\n",
       "      <th>10</th>\n",
       "      <td>0.244229</td>\n",
       "      <td>83f8eb37368cb38</td>\n",
       "      <td>16</td>\n",
       "      <td>toxval</td>\n",
       "      <td>Environmental Fate and Effects Division, U.S.EPA, Washington, D.C.: U.S. Environmental Protection Agency Pesticide Ecotoxicity Database (Formerly: Environmental Effects Database (EEDB)) 1992_NOEL_Water Flea_aqueous_mg/m3_neurotoxicity_ECOTOX</td>\n",
       "    </tr>\n",
       "    <tr>\n",
       "      <th>11</th>\n",
       "      <td>0.230764</td>\n",
       "      <td>83f8eb37368cb38</td>\n",
       "      <td>32</td>\n",
       "      <td>toxval</td>\n",
       "      <td>Environmental Fate and Effects Division, U.S.EPA, Washington, D.C.: U.S. Environmental Protection Agency Pesticide Ecotoxicity Database (Formerly: Environmental Effects Database (EEDB)) 1992_NOEL_Water Flea_aqueous_mg/m3_neurotoxicity_ECOTOX</td>\n",
       "    </tr>\n",
       "    <tr>\n",
       "      <th>20</th>\n",
       "      <td>0.207688</td>\n",
       "      <td>0384960b45bc7c3</td>\n",
       "      <td>32</td>\n",
       "      <td>toxval</td>\n",
       "      <td>Environmental Fate and Effects Division, U.S.EPA, Washington, D.C.: U.S. Environmental Protection Agency Pesticide Ecotoxicity Database (Formerly: Environmental Effects Database (EEDB)) 1992_NOEL_Rainbow Trout_aqueous_mg/m3_mortality_ECOTOX</td>\n",
       "    </tr>\n",
       "    <tr>\n",
       "      <th>19</th>\n",
       "      <td>0.207216</td>\n",
       "      <td>0384960b45bc7c3</td>\n",
       "      <td>16</td>\n",
       "      <td>toxval</td>\n",
       "      <td>Environmental Fate and Effects Division, U.S.EPA, Washington, D.C.: U.S. Environmental Protection Agency Pesticide Ecotoxicity Database (Formerly: Environmental Effects Database (EEDB)) 1992_NOEL_Rainbow Trout_aqueous_mg/m3_mortality_ECOTOX</td>\n",
       "    </tr>\n",
       "    <tr>\n",
       "      <th>23</th>\n",
       "      <td>0.201050</td>\n",
       "      <td>fbf18f4352e1c05</td>\n",
       "      <td>32</td>\n",
       "      <td>toxval</td>\n",
       "      <td>Environmental Fate and Effects Division, U.S.EPA, Washington, D.C.: U.S. Environmental Protection Agency Pesticide Ecotoxicity Database (Formerly: Environmental Effects Database (EEDB)) 1992_NOEL_Bluegill_aqueous_mg/m3_mortality_ECOTOX</td>\n",
       "    </tr>\n",
       "    <tr>\n",
       "      <th>1</th>\n",
       "      <td>0.196674</td>\n",
       "      <td>9e409008c12c454</td>\n",
       "      <td>16</td>\n",
       "      <td>toxval</td>\n",
       "      <td>Environmental Fate and Effects Division, U.S.EPA, Washington, D.C.: U.S. Environmental Protection Agency Pesticide Ecotoxicity Database (Formerly: Environmental Effects Database (EEDB)) 1992_LC50_Sheepshead Minnow_aqueous_mg/m3_mortality_ECOTOX</td>\n",
       "    </tr>\n",
       "    <tr>\n",
       "      <th>8</th>\n",
       "      <td>0.165991</td>\n",
       "      <td>3750021a43179d9</td>\n",
       "      <td>32</td>\n",
       "      <td>toxval</td>\n",
       "      <td>Environmental Fate and Effects Division, U.S.EPA, Washington, D.C.: U.S. Environmental Protection Agency Pesticide Ecotoxicity Database (Formerly: Environmental Effects Database (EEDB)) 1992_EC50_Water Flea_aqueous_mg/m3_neurotoxicity_ECOTOX</td>\n",
       "    </tr>\n",
       "    <tr>\n",
       "      <th>22</th>\n",
       "      <td>0.107467</td>\n",
       "      <td>fbf18f4352e1c05</td>\n",
       "      <td>16</td>\n",
       "      <td>toxval</td>\n",
       "      <td>Environmental Fate and Effects Division, U.S.EPA, Washington, D.C.: U.S. Environmental Protection Agency Pesticide Ecotoxicity Database (Formerly: Environmental Effects Database (EEDB)) 1992_NOEL_Bluegill_aqueous_mg/m3_mortality_ECOTOX</td>\n",
       "    </tr>\n",
       "    <tr>\n",
       "      <th>15</th>\n",
       "      <td>0.103741</td>\n",
       "      <td>ffd32d78a3cb4d3</td>\n",
       "      <td>64</td>\n",
       "      <td>toxval</td>\n",
       "      <td>secondary source - - 2008_LD50_Rat_oral_mg/kg_acute_ECHA IUCLID</td>\n",
       "    </tr>\n",
       "    <tr>\n",
       "      <th>3</th>\n",
       "      <td>0.091612</td>\n",
       "      <td>7488c5988044e33</td>\n",
       "      <td>64</td>\n",
       "      <td>toxval</td>\n",
       "      <td>Environmental Fate and Effects Division, U.S.EPA, Washington, D.C.: U.S. Environmental Protection Agency Pesticide Ecotoxicity Database (Formerly: Environmental Effects Database (EEDB)) 1992_LC50_Bluegill_aqueous_mg/m3_mortality_ECOTOX</td>\n",
       "    </tr>\n",
       "    <tr>\n",
       "      <th>16</th>\n",
       "      <td>0.073951</td>\n",
       "      <td>ffd32d78a3cb4d3</td>\n",
       "      <td>16</td>\n",
       "      <td>toxval</td>\n",
       "      <td>secondary source - - 2008_LD50_Rat_oral_mg/kg_acute_ECHA IUCLID</td>\n",
       "    </tr>\n",
       "    <tr>\n",
       "      <th>7</th>\n",
       "      <td>0.069610</td>\n",
       "      <td>3750021a43179d9</td>\n",
       "      <td>16</td>\n",
       "      <td>toxval</td>\n",
       "      <td>Environmental Fate and Effects Division, U.S.EPA, Washington, D.C.: U.S. Environmental Protection Agency Pesticide Ecotoxicity Database (Formerly: Environmental Effects Database (EEDB)) 1992_EC50_Water Flea_aqueous_mg/m3_neurotoxicity_ECOTOX</td>\n",
       "    </tr>\n",
       "    <tr>\n",
       "      <th>12</th>\n",
       "      <td>0.067932</td>\n",
       "      <td>7a6c25c3e4eef50</td>\n",
       "      <td>64</td>\n",
       "      <td>toxval</td>\n",
       "      <td>Environmental Fate and Effects Division, U.S.EPA, Washington, D.C.: U.S. Environmental Protection Agency Pesticide Ecotoxicity Database (Formerly: Environmental Effects Database (EEDB)) 1992_LC50_Rainbow Trout_aqueous_mg/m3_mortality_ECOTOX</td>\n",
       "    </tr>\n",
       "    <tr>\n",
       "      <th>17</th>\n",
       "      <td>0.039733</td>\n",
       "      <td>ffd32d78a3cb4d3</td>\n",
       "      <td>32</td>\n",
       "      <td>toxval</td>\n",
       "      <td>secondary source - - 2008_LD50_Rat_oral_mg/kg_acute_ECHA IUCLID</td>\n",
       "    </tr>\n",
       "    <tr>\n",
       "      <th>5</th>\n",
       "      <td>0.038104</td>\n",
       "      <td>7488c5988044e33</td>\n",
       "      <td>32</td>\n",
       "      <td>toxval</td>\n",
       "      <td>Environmental Fate and Effects Division, U.S.EPA, Washington, D.C.: U.S. Environmental Protection Agency Pesticide Ecotoxicity Database (Formerly: Environmental Effects Database (EEDB)) 1992_LC50_Bluegill_aqueous_mg/m3_mortality_ECOTOX</td>\n",
       "    </tr>\n",
       "    <tr>\n",
       "      <th>4</th>\n",
       "      <td>0.020355</td>\n",
       "      <td>7488c5988044e33</td>\n",
       "      <td>16</td>\n",
       "      <td>toxval</td>\n",
       "      <td>Environmental Fate and Effects Division, U.S.EPA, Washington, D.C.: U.S. Environmental Protection Agency Pesticide Ecotoxicity Database (Formerly: Environmental Effects Database (EEDB)) 1992_LC50_Bluegill_aqueous_mg/m3_mortality_ECOTOX</td>\n",
       "    </tr>\n",
       "    <tr>\n",
       "      <th>14</th>\n",
       "      <td>0.009216</td>\n",
       "      <td>7a6c25c3e4eef50</td>\n",
       "      <td>32</td>\n",
       "      <td>toxval</td>\n",
       "      <td>Environmental Fate and Effects Division, U.S.EPA, Washington, D.C.: U.S. Environmental Protection Agency Pesticide Ecotoxicity Database (Formerly: Environmental Effects Database (EEDB)) 1992_LC50_Rainbow Trout_aqueous_mg/m3_mortality_ECOTOX</td>\n",
       "    </tr>\n",
       "    <tr>\n",
       "      <th>13</th>\n",
       "      <td>-0.012364</td>\n",
       "      <td>7a6c25c3e4eef50</td>\n",
       "      <td>16</td>\n",
       "      <td>toxval</td>\n",
       "      <td>Environmental Fate and Effects Division, U.S.EPA, Washington, D.C.: U.S. Environmental Protection Agency Pesticide Ecotoxicity Database (Formerly: Environmental Effects Database (EEDB)) 1992_LC50_Rainbow Trout_aqueous_mg/m3_mortality_ECOTOX</td>\n",
       "    </tr>\n",
       "  </tbody>\n",
       "</table>\n",
       "</div>"
      ],
      "text/plain": [
       "    delta_auc_pr         assay_id  support_set_size dataset  \\\n",
       "6       0.310458  3750021a43179d9                64  toxval   \n",
       "0       0.289894  9e409008c12c454                64  toxval   \n",
       "21      0.289754  fbf18f4352e1c05                64  toxval   \n",
       "9       0.281419  83f8eb37368cb38                64  toxval   \n",
       "18      0.265265  0384960b45bc7c3                64  toxval   \n",
       "2       0.247231  9e409008c12c454                32  toxval   \n",
       "10      0.244229  83f8eb37368cb38                16  toxval   \n",
       "11      0.230764  83f8eb37368cb38                32  toxval   \n",
       "20      0.207688  0384960b45bc7c3                32  toxval   \n",
       "19      0.207216  0384960b45bc7c3                16  toxval   \n",
       "23      0.201050  fbf18f4352e1c05                32  toxval   \n",
       "1       0.196674  9e409008c12c454                16  toxval   \n",
       "8       0.165991  3750021a43179d9                32  toxval   \n",
       "22      0.107467  fbf18f4352e1c05                16  toxval   \n",
       "15      0.103741  ffd32d78a3cb4d3                64  toxval   \n",
       "3       0.091612  7488c5988044e33                64  toxval   \n",
       "16      0.073951  ffd32d78a3cb4d3                16  toxval   \n",
       "7       0.069610  3750021a43179d9                16  toxval   \n",
       "12      0.067932  7a6c25c3e4eef50                64  toxval   \n",
       "17      0.039733  ffd32d78a3cb4d3                32  toxval   \n",
       "5       0.038104  7488c5988044e33                32  toxval   \n",
       "4       0.020355  7488c5988044e33                16  toxval   \n",
       "14      0.009216  7a6c25c3e4eef50                32  toxval   \n",
       "13     -0.012364  7a6c25c3e4eef50                16  toxval   \n",
       "\n",
       "                                                                                                                                                                                                                                              assay_name  \n",
       "6      Environmental Fate and Effects Division, U.S.EPA, Washington, D.C.: U.S. Environmental Protection Agency Pesticide Ecotoxicity Database (Formerly: Environmental Effects Database (EEDB)) 1992_EC50_Water Flea_aqueous_mg/m3_neurotoxicity_ECOTOX  \n",
       "0   Environmental Fate and Effects Division, U.S.EPA, Washington, D.C.: U.S. Environmental Protection Agency Pesticide Ecotoxicity Database (Formerly: Environmental Effects Database (EEDB)) 1992_LC50_Sheepshead Minnow_aqueous_mg/m3_mortality_ECOTOX  \n",
       "21           Environmental Fate and Effects Division, U.S.EPA, Washington, D.C.: U.S. Environmental Protection Agency Pesticide Ecotoxicity Database (Formerly: Environmental Effects Database (EEDB)) 1992_NOEL_Bluegill_aqueous_mg/m3_mortality_ECOTOX  \n",
       "9      Environmental Fate and Effects Division, U.S.EPA, Washington, D.C.: U.S. Environmental Protection Agency Pesticide Ecotoxicity Database (Formerly: Environmental Effects Database (EEDB)) 1992_NOEL_Water Flea_aqueous_mg/m3_neurotoxicity_ECOTOX  \n",
       "18      Environmental Fate and Effects Division, U.S.EPA, Washington, D.C.: U.S. Environmental Protection Agency Pesticide Ecotoxicity Database (Formerly: Environmental Effects Database (EEDB)) 1992_NOEL_Rainbow Trout_aqueous_mg/m3_mortality_ECOTOX  \n",
       "2   Environmental Fate and Effects Division, U.S.EPA, Washington, D.C.: U.S. Environmental Protection Agency Pesticide Ecotoxicity Database (Formerly: Environmental Effects Database (EEDB)) 1992_LC50_Sheepshead Minnow_aqueous_mg/m3_mortality_ECOTOX  \n",
       "10     Environmental Fate and Effects Division, U.S.EPA, Washington, D.C.: U.S. Environmental Protection Agency Pesticide Ecotoxicity Database (Formerly: Environmental Effects Database (EEDB)) 1992_NOEL_Water Flea_aqueous_mg/m3_neurotoxicity_ECOTOX  \n",
       "11     Environmental Fate and Effects Division, U.S.EPA, Washington, D.C.: U.S. Environmental Protection Agency Pesticide Ecotoxicity Database (Formerly: Environmental Effects Database (EEDB)) 1992_NOEL_Water Flea_aqueous_mg/m3_neurotoxicity_ECOTOX  \n",
       "20      Environmental Fate and Effects Division, U.S.EPA, Washington, D.C.: U.S. Environmental Protection Agency Pesticide Ecotoxicity Database (Formerly: Environmental Effects Database (EEDB)) 1992_NOEL_Rainbow Trout_aqueous_mg/m3_mortality_ECOTOX  \n",
       "19      Environmental Fate and Effects Division, U.S.EPA, Washington, D.C.: U.S. Environmental Protection Agency Pesticide Ecotoxicity Database (Formerly: Environmental Effects Database (EEDB)) 1992_NOEL_Rainbow Trout_aqueous_mg/m3_mortality_ECOTOX  \n",
       "23           Environmental Fate and Effects Division, U.S.EPA, Washington, D.C.: U.S. Environmental Protection Agency Pesticide Ecotoxicity Database (Formerly: Environmental Effects Database (EEDB)) 1992_NOEL_Bluegill_aqueous_mg/m3_mortality_ECOTOX  \n",
       "1   Environmental Fate and Effects Division, U.S.EPA, Washington, D.C.: U.S. Environmental Protection Agency Pesticide Ecotoxicity Database (Formerly: Environmental Effects Database (EEDB)) 1992_LC50_Sheepshead Minnow_aqueous_mg/m3_mortality_ECOTOX  \n",
       "8      Environmental Fate and Effects Division, U.S.EPA, Washington, D.C.: U.S. Environmental Protection Agency Pesticide Ecotoxicity Database (Formerly: Environmental Effects Database (EEDB)) 1992_EC50_Water Flea_aqueous_mg/m3_neurotoxicity_ECOTOX  \n",
       "22           Environmental Fate and Effects Division, U.S.EPA, Washington, D.C.: U.S. Environmental Protection Agency Pesticide Ecotoxicity Database (Formerly: Environmental Effects Database (EEDB)) 1992_NOEL_Bluegill_aqueous_mg/m3_mortality_ECOTOX  \n",
       "15                                                                                                                                                                                       secondary source - - 2008_LD50_Rat_oral_mg/kg_acute_ECHA IUCLID  \n",
       "3            Environmental Fate and Effects Division, U.S.EPA, Washington, D.C.: U.S. Environmental Protection Agency Pesticide Ecotoxicity Database (Formerly: Environmental Effects Database (EEDB)) 1992_LC50_Bluegill_aqueous_mg/m3_mortality_ECOTOX  \n",
       "16                                                                                                                                                                                       secondary source - - 2008_LD50_Rat_oral_mg/kg_acute_ECHA IUCLID  \n",
       "7      Environmental Fate and Effects Division, U.S.EPA, Washington, D.C.: U.S. Environmental Protection Agency Pesticide Ecotoxicity Database (Formerly: Environmental Effects Database (EEDB)) 1992_EC50_Water Flea_aqueous_mg/m3_neurotoxicity_ECOTOX  \n",
       "12      Environmental Fate and Effects Division, U.S.EPA, Washington, D.C.: U.S. Environmental Protection Agency Pesticide Ecotoxicity Database (Formerly: Environmental Effects Database (EEDB)) 1992_LC50_Rainbow Trout_aqueous_mg/m3_mortality_ECOTOX  \n",
       "17                                                                                                                                                                                       secondary source - - 2008_LD50_Rat_oral_mg/kg_acute_ECHA IUCLID  \n",
       "5            Environmental Fate and Effects Division, U.S.EPA, Washington, D.C.: U.S. Environmental Protection Agency Pesticide Ecotoxicity Database (Formerly: Environmental Effects Database (EEDB)) 1992_LC50_Bluegill_aqueous_mg/m3_mortality_ECOTOX  \n",
       "4            Environmental Fate and Effects Division, U.S.EPA, Washington, D.C.: U.S. Environmental Protection Agency Pesticide Ecotoxicity Database (Formerly: Environmental Effects Database (EEDB)) 1992_LC50_Bluegill_aqueous_mg/m3_mortality_ECOTOX  \n",
       "14      Environmental Fate and Effects Division, U.S.EPA, Washington, D.C.: U.S. Environmental Protection Agency Pesticide Ecotoxicity Database (Formerly: Environmental Effects Database (EEDB)) 1992_LC50_Rainbow Trout_aqueous_mg/m3_mortality_ECOTOX  \n",
       "13      Environmental Fate and Effects Division, U.S.EPA, Washington, D.C.: U.S. Environmental Protection Agency Pesticide Ecotoxicity Database (Formerly: Environmental Effects Database (EEDB)) 1992_LC50_Rainbow Trout_aqueous_mg/m3_mortality_ECOTOX  "
      ]
     },
     "execution_count": 7,
     "metadata": {},
     "output_type": "execute_result"
    }
   ],
   "source": [
    "pd.set_option('display.max_colwidth', None)\n",
    "\n",
    "toxval_merged = toxval.merge(toxval_components, on=\"assay_id\")\n",
    "toxval_merged.sort_values(by=\"delta_auc_pr\", ascending=False)"
   ]
  },
  {
   "cell_type": "markdown",
   "id": "e400a1db",
   "metadata": {},
   "source": [
    "There doesn't appear to be an obvious pattern as to whether certain assay components improve performance."
   ]
  },
  {
   "cell_type": "markdown",
   "id": "d2403112",
   "metadata": {},
   "source": [
    "## Active ratio - toxval\n",
    "Maybe there is a correlation between predictive performance and the active ratio of a given assay. I will use the run where a support set size of 32 is used so that I can appear a given set of assays without the assays being repeated."
   ]
  },
  {
   "cell_type": "code",
   "execution_count": 8,
   "id": "05b961f5",
   "metadata": {},
   "outputs": [],
   "source": [
    "run_dir = f\"{RUN_DIR}/params.dataset=toxval,params.support_set_size=32/data/processed/assay/*parquet\"\n",
    "\n",
    "query = f\"\"\"\n",
    "    SELECT ground_truth, filename AS assay_id\n",
    "    FROM read_parquet('{run_dir}', filename=true)\n",
    "    \"\"\"\n",
    "df = con.execute(query).df()\n",
    "\n",
    "# Change assay id column so that filename is converted to assay id\n",
    "df[\"assay_id\"] = df[\"assay_id\"].apply(rename_filename_to_assay_id)"
   ]
  },
  {
   "cell_type": "code",
   "execution_count": 9,
   "id": "62249d34",
   "metadata": {},
   "outputs": [],
   "source": [
    "proportion = df.groupby(\"assay_id\")[\"ground_truth\"].sum() / df.groupby(\"assay_id\")[\"ground_truth\"].count()"
   ]
  },
  {
   "cell_type": "code",
   "execution_count": 10,
   "id": "75b3e41c",
   "metadata": {},
   "outputs": [],
   "source": [
    "df = df.merge(proportion, on=\"assay_id\")\n",
    "df.rename(columns={\"ground_truth_x\": \"ground_truth\", \"ground_truth_y\": \"active_ratio\"}, inplace=True)"
   ]
  },
  {
   "cell_type": "code",
   "execution_count": 11,
   "id": "8650e9a0",
   "metadata": {},
   "outputs": [
    {
     "data": {
      "image/png": "[encoded data removed]",
      "text/plain": [
       "<Figure size 1000x600 with 1 Axes>"
      ]
     },
     "metadata": {},
     "output_type": "display_data"
    }
   ],
   "source": [
    "merged = toxval_32.merge(df, on=\"assay_id\")\n",
    "\n",
    "# Create scatter plot of merged[\"active_ratio\"] vs merged[\"delta_auc_pr\"]\n",
    "plt.figure(figsize=(10, 6))\n",
    "plt.scatter(merged[\"active_ratio\"], merged[\"delta_auc_pr\"])\n",
    "plt.xlabel('Active Ratio')\n",
    "plt.ylabel('Delta AUC PR')\n",
    "plt.title('Scatter plot of Active Ratio vs Delta AUC PR')\n",
    "plt.show()"
   ]
  },
  {
   "cell_type": "markdown",
   "id": "ef994cc1",
   "metadata": {},
   "source": [
    "It appears that those datapoints with an active ratio closer to 0.5 have larger delta-AUC-PR scores.\n",
    "\n",
    "I also want to plot the absolute active ratio difference from 0.5 vs delta-AUC-PR."
   ]
  },
  {
   "cell_type": "code",
   "execution_count": 12,
   "id": "7f8a0de2",
   "metadata": {},
   "outputs": [
    {
     "data": {
      "image/png": "[encoded data removed]",
      "text/plain": [
       "<Figure size 1000x600 with 1 Axes>"
      ]
     },
     "metadata": {},
     "output_type": "display_data"
    }
   ],
   "source": [
    "diff = abs(merged[\"active_ratio\"] - 0.5)\n",
    "\n",
    "# Create scatter plot of merged[\"active_ratio\"] vs merged[\"delta_auc_pr\"]\n",
    "plt.figure(figsize=(10, 6))\n",
    "plt.scatter(diff, merged[\"delta_auc_pr\"])\n",
    "plt.xlabel('Deviation from active ratio of 0.5')\n",
    "plt.ylabel('Delta AUC PR')\n",
    "plt.title('Scatter plot of Active Ratio vs Delta AUC PR')\n",
    "plt.show()"
   ]
  },
  {
   "cell_type": "markdown",
   "id": "a047932f",
   "metadata": {},
   "source": [
    "This shows a negative correlation between active ratio deviation from 0.5 and preditive performance."
   ]
  },
  {
   "cell_type": "code",
   "execution_count": 14,
   "id": "852c99da",
   "metadata": {},
   "outputs": [
    {
     "data": {
      "text/plain": [
       "-0.7793200569045445"
      ]
     },
     "execution_count": 14,
     "metadata": {},
     "output_type": "execute_result"
    }
   ],
   "source": [
    "diff.corr(merged[\"delta_auc_pr\"])"
   ]
  },
  {
   "cell_type": "markdown",
   "id": "7c109f0f",
   "metadata": {},
   "source": [
    "There is a very strong negative correlation."
   ]
  },
  {
   "cell_type": "code",
   "execution_count": 23,
   "id": "0746bc53",
   "metadata": {},
   "outputs": [
    {
     "data": {
      "text/plain": [
       "0.12075029308323565"
      ]
     },
     "execution_count": 23,
     "metadata": {},
     "output_type": "execute_result"
    }
   ],
   "source": [
    "diff.median()"
   ]
  },
  {
   "cell_type": "markdown",
   "id": "1517086f",
   "metadata": {},
   "source": [
    "The average deviation from 0.5 active ratio is 0.12"
   ]
  },
  {
   "cell_type": "markdown",
   "id": "139e7d69",
   "metadata": {},
   "source": [
    "## Active ratio - toxcast\n",
    "I want to check and see if this is the case for the toxcast dataset as well."
   ]
  },
  {
   "cell_type": "code",
   "execution_count": 15,
   "id": "b084c52e",
   "metadata": {},
   "outputs": [],
   "source": [
    "run_dir = f\"{RUN_DIR}/params.dataset=toxcast,params.support_set_size=32/data/processed/assay/*parquet\"\n",
    "\n",
    "query = f\"\"\"\n",
    "    SELECT ground_truth, filename AS assay_id\n",
    "    FROM read_parquet('{run_dir}', filename=true)\n",
    "    \"\"\"\n",
    "df = con.execute(query).df()\n",
    "\n",
    "# Change assay id column so that filename is converted to assay id\n",
    "df[\"assay_id\"] = df[\"assay_id\"].apply(rename_filename_to_assay_id)"
   ]
  },
  {
   "cell_type": "code",
   "execution_count": 16,
   "id": "fb255a87",
   "metadata": {},
   "outputs": [],
   "source": [
    "proportion = df.groupby(\"assay_id\")[\"ground_truth\"].sum() / df.groupby(\"assay_id\")[\"ground_truth\"].count()"
   ]
  },
  {
   "cell_type": "code",
   "execution_count": 17,
   "id": "79a6bf1d",
   "metadata": {},
   "outputs": [],
   "source": [
    "df = df.merge(proportion, on=\"assay_id\")\n",
    "df.rename(columns={\"ground_truth_x\": \"ground_truth\", \"ground_truth_y\": \"active_ratio\"}, inplace=True)"
   ]
  },
  {
   "cell_type": "code",
   "execution_count": 18,
   "id": "31b415f7",
   "metadata": {},
   "outputs": [
    {
     "data": {
      "image/png": "[encoded data removed]",
      "text/plain": [
       "<Figure size 1000x600 with 1 Axes>"
      ]
     },
     "metadata": {},
     "output_type": "display_data"
    }
   ],
   "source": [
    "merged = toxval_32.merge(df, on=\"assay_id\")\n",
    "\n",
    "# Create scatter plot of merged[\"active_ratio\"] vs merged[\"delta_auc_pr\"]\n",
    "plt.figure(figsize=(10, 6))\n",
    "plt.scatter(merged[\"active_ratio\"], merged[\"delta_auc_pr\"])\n",
    "plt.xlabel('Active Ratio')\n",
    "plt.ylabel('Delta AUC PR')\n",
    "plt.title('Scatter plot of Active Ratio vs Delta AUC PR')\n",
    "plt.show()"
   ]
  },
  {
   "cell_type": "code",
   "execution_count": 19,
   "id": "58abf7e4",
   "metadata": {},
   "outputs": [
    {
     "data": {
      "image/png": "[encoded data removed]",
      "text/plain": [
       "<Figure size 1000x600 with 1 Axes>"
      ]
     },
     "metadata": {},
     "output_type": "display_data"
    }
   ],
   "source": [
    "diff = abs(merged[\"active_ratio\"] - 0.5)\n",
    "\n",
    "# Create scatter plot of merged[\"active_ratio\"] vs merged[\"delta_auc_pr\"]\n",
    "plt.figure(figsize=(10, 6))\n",
    "plt.scatter(diff, merged[\"delta_auc_pr\"])\n",
    "plt.xlabel('Deviation from active ratio of 0.5')\n",
    "plt.ylabel('Delta AUC PR')\n",
    "plt.title('Scatter plot of Active Ratio vs Delta AUC PR')\n",
    "plt.show()"
   ]
  },
  {
   "cell_type": "code",
   "execution_count": 20,
   "id": "eea6f70b",
   "metadata": {},
   "outputs": [
    {
     "data": {
      "text/plain": [
       "0.12075029308323565"
      ]
     },
     "execution_count": 20,
     "metadata": {},
     "output_type": "execute_result"
    }
   ],
   "source": [
    "diff.median()"
   ]
  },
  {
   "cell_type": "code",
   "execution_count": 21,
   "id": "0aad50a0",
   "metadata": {},
   "outputs": [
    {
     "data": {
      "text/plain": [
       "-0.4581615358607872"
      ]
     },
     "execution_count": 21,
     "metadata": {},
     "output_type": "execute_result"
    }
   ],
   "source": [
    "diff.corr(merged[\"delta_auc_pr\"])"
   ]
  },
  {
   "cell_type": "markdown",
   "id": "88582d10",
   "metadata": {},
   "source": [
    "So it seems there is a strong negative correlation between active ratio deviation from 0.5 and delta-auc-pr.\n",
    "\n",
    "It may be that there are different active ratios across different datasets, which is what explain the difference in predictive performance.\n",
    "\n",
    "I will calculate the median delta-AUC-PR scores only for those values with an absolute deivation of less than or equal to 0.05 for the toxcast dataset. I would expect the median delta-AUC-PR value to be similar to toxvaldb (around 0.2) \n",
    "if this imbalance is indeed repsonsible for the difference between the two datasets."
   ]
  },
  {
   "cell_type": "code",
   "execution_count": 24,
   "id": "b46ab530",
   "metadata": {},
   "outputs": [
    {
     "data": {
      "text/plain": [
       "0.10143497271853208"
      ]
     },
     "execution_count": 24,
     "metadata": {},
     "output_type": "execute_result"
    }
   ],
   "source": [
    "merged[diff <= 0.1][\"delta_auc_pr\"].median()"
   ]
  },
  {
   "cell_type": "markdown",
   "id": "0935aa7e",
   "metadata": {},
   "source": [
    "The median value is much lower than expected, meaning that this imbalance is not responsible for the difference in predictive performance between the two assays."
   ]
  }
 ],
 "metadata": {
  "kernelspec": {
   "display_name": "fs-tox",
   "language": "python",
   "name": "fs-tox"
  },
  "language_info": {
   "codemirror_mode": {
    "name": "ipython",
    "version": 3
   },
   "file_extension": ".py",
   "mimetype": "text/x-python",
   "name": "python",
   "nbconvert_exporter": "python",
   "pygments_lexer": "ipython3",
   "version": "3.11.3"
  }
 },
 "nbformat": 4,
 "nbformat_minor": 5
}
